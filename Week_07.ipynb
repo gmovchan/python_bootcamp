{
 "cells": [
  {
   "cell_type": "markdown",
   "metadata": {},
   "source": [
    "# Creating & Instantiating a Class"
   ]
  },
  {
   "cell_type": "code",
   "execution_count": 2,
   "metadata": {},
   "outputs": [],
   "source": [
    "class Car():\n",
    "    pass"
   ]
  },
  {
   "cell_type": "code",
   "execution_count": 4,
   "metadata": {},
   "outputs": [
    {
     "name": "stdout",
     "output_type": "stream",
     "text": [
      "<__main__.Car object at 0x000001E2A0ACF208>\n"
     ]
    }
   ],
   "source": [
    "ford = Car()\n",
    "print(ford)"
   ]
  },
  {
   "cell_type": "code",
   "execution_count": 5,
   "metadata": {},
   "outputs": [
    {
     "name": "stdout",
     "output_type": "stream",
     "text": [
      "-9223371907300405472\n",
      "-9223371907300389012\n"
     ]
    }
   ],
   "source": [
    "subaru = Car()\n",
    "print(hash(ford))\n",
    "print(hash(subaru))"
   ]
  },
  {
   "cell_type": "code",
   "execution_count": 7,
   "metadata": {},
   "outputs": [
    {
     "name": "stdout",
     "output_type": "stream",
     "text": [
      "-9223371907300309876\n",
      "-9223371907300309796\n"
     ]
    }
   ],
   "source": [
    "class Animals():\n",
    "    pass\n",
    "lion = Animals()\n",
    "tiger = Animals()\n",
    "print(hash(lion))\n",
    "print(hash(tiger))"
   ]
  },
  {
   "cell_type": "code",
   "execution_count": 10,
   "metadata": {},
   "outputs": [
    {
     "name": "stdout",
     "output_type": "stream",
     "text": [
      "<__main__.Bus object at 0x000001E2A0956508>\n"
     ]
    }
   ],
   "source": [
    "class Bus:\n",
    "    pass\n",
    "school_bus = Bus()\n",
    "print(school_bus)"
   ]
  },
  {
   "cell_type": "markdown",
   "metadata": {},
   "source": [
    "# Attributes"
   ]
  },
  {
   "cell_type": "code",
   "execution_count": 11,
   "metadata": {},
   "outputs": [
    {
     "name": "stdout",
     "output_type": "stream",
     "text": [
      "red\n"
     ]
    }
   ],
   "source": [
    "class Car():\n",
    "    sound = \"beep\"\n",
    "    color = \"red\"\n",
    "ford = Car()\n",
    "print(ford.color)"
   ]
  },
  {
   "cell_type": "code",
   "execution_count": 12,
   "metadata": {},
   "outputs": [
    {
     "name": "stdout",
     "output_type": "stream",
     "text": [
      "beep\n",
      "honk\n"
     ]
    }
   ],
   "source": [
    "class Car():\n",
    "    sound = \"beep\"\n",
    "    color = \"red\"\n",
    "ford = Car()\n",
    "print(ford.sound)\n",
    "ford.sound = \"honk\"\n",
    "print(ford.sound)"
   ]
  },
  {
   "cell_type": "code",
   "execution_count": 18,
   "metadata": {},
   "outputs": [
    {
     "name": "stdout",
     "output_type": "stream",
     "text": [
      "blue\n",
      "red\n"
     ]
    }
   ],
   "source": [
    "class Car():\n",
    "    def __init__(self, color):\n",
    "        self.color = color\n",
    "ford = Car(\"blue\")\n",
    "print(ford.color)\n",
    "ford.color = \"red\"\n",
    "print(ford.color)"
   ]
  },
  {
   "cell_type": "code",
   "execution_count": 20,
   "metadata": {},
   "outputs": [
    {
     "name": "stdout",
     "output_type": "stream",
     "text": [
      "blue 2016\n",
      "red 2018\n"
     ]
    }
   ],
   "source": [
    "class Car():\n",
    "    def __init__(self, color, year):\n",
    "        self.color = color\n",
    "        self.year = year\n",
    "ford = Car(\"blue\", 2016)\n",
    "subaru = Car(\"red\", 2018)\n",
    "print(ford.color, ford.year)\n",
    "print(subaru.color, subaru.year)"
   ]
  },
  {
   "cell_type": "code",
   "execution_count": 12,
   "metadata": {},
   "outputs": [
    {
     "name": "stdout",
     "output_type": "stream",
     "text": [
      "honk\n",
      "honk blue\n"
     ]
    }
   ],
   "source": [
    "class Car():\n",
    "    sound = \"beep\"\n",
    "    def __init__(self, color):\n",
    "        self.color = \"blue\"\n",
    "Car.sound = \"honk\"\n",
    "print(Car.sound)\n",
    "#print(Car.color)\n",
    "ford = Car(\"blue\")\n",
    "print(ford.sound, ford.color)"
   ]
  },
  {
   "cell_type": "code",
   "execution_count": 10,
   "metadata": {},
   "outputs": [
    {
     "name": "stdout",
     "output_type": "stream",
     "text": [
      "Canine Husky Sammi\n",
      "Canine Chocolate Lab Casey\n"
     ]
    }
   ],
   "source": [
    "class Dog():\n",
    "    species = \"Canine\"\n",
    "    def __init__(self, name, breed):\n",
    "        self.name = name\n",
    "        self.breed = breed\n",
    "dog_1 = Dog(\"Sammi\", \"Husky\")\n",
    "dog_2 = Dog(\"Casey\", \"Chocolate Lab\")\n",
    "print(dog_1.species, dog_1.breed, dog_1.name)\n",
    "print(dog_2.species, dog_2.breed, dog_2.name)"
   ]
  },
  {
   "cell_type": "code",
   "execution_count": 11,
   "metadata": {},
   "outputs": [
    {
     "name": "stdout",
     "output_type": "stream",
     "text": [
      "Type your name: Gregory\n",
      "Gregory\n"
     ]
    }
   ],
   "source": [
    "class Person():\n",
    "    def __init__(self, name):\n",
    "        self.name = name\n",
    "person_1 = Person(input(\"Type your name: \"))\n",
    "print(person_1.name)"
   ]
  },
  {
   "cell_type": "markdown",
   "metadata": {},
   "source": [
    "# Methods"
   ]
  },
  {
   "cell_type": "code",
   "execution_count": 18,
   "metadata": {},
   "outputs": [
    {
     "name": "stdout",
     "output_type": "stream",
     "text": [
      "bark\n",
      "bark\n"
     ]
    }
   ],
   "source": [
    "class Dog():\n",
    "    def makeSound(self):\n",
    "        print(\"bark\")\n",
    "Dog.makeSound(True)\n",
    "sam = Dog()\n",
    "sam.makeSound()"
   ]
  },
  {
   "cell_type": "code",
   "execution_count": 19,
   "metadata": {},
   "outputs": [
    {
     "name": "stdout",
     "output_type": "stream",
     "text": [
      "bark\n"
     ]
    }
   ],
   "source": [
    "class Dog():\n",
    "    sound = \"bark\"\n",
    "    def makeSound(self):\n",
    "        print(self.sound)\n",
    "sam = Dog()\n",
    "sam.makeSound()"
   ]
  },
  {
   "cell_type": "code",
   "execution_count": 23,
   "metadata": {},
   "outputs": [
    {
     "name": "stdout",
     "output_type": "stream",
     "text": [
      "I am a dog.\n",
      "bark\n"
     ]
    }
   ],
   "source": [
    "class Dog():\n",
    "    sound = \"bark\"\n",
    "    def makeSound(self):\n",
    "        print(self.sound)\n",
    "    def printInfo():\n",
    "        print(\"I am a dog.\")\n",
    "Dog.printInfo()\n",
    "sam = Dog()\n",
    "sam.makeSound()"
   ]
  },
  {
   "cell_type": "code",
   "execution_count": 27,
   "metadata": {},
   "outputs": [
    {
     "name": "stdout",
     "output_type": "stream",
     "text": [
      "6\n"
     ]
    }
   ],
   "source": [
    "class Dog():\n",
    "    def showAge(self, age):\n",
    "        print(age)\n",
    "sam = Dog()\n",
    "sam.showAge(6)"
   ]
  },
  {
   "cell_type": "code",
   "execution_count": 29,
   "metadata": {},
   "outputs": [
    {
     "name": "stdout",
     "output_type": "stream",
     "text": [
      "Sammi\n"
     ]
    }
   ],
   "source": [
    "class Dog():\n",
    "    name = \"\"\n",
    "    def setName(self, new_name):\n",
    "        self.name = new_name\n",
    "        \n",
    "    def getName(self):\n",
    "        return self.name\n",
    "sam = Dog()\n",
    "sam.setName(\"Sammi\")\n",
    "print(sam.getName())"
   ]
  },
  {
   "cell_type": "code",
   "execution_count": 31,
   "metadata": {},
   "outputs": [
    {
     "name": "stdout",
     "output_type": "stream",
     "text": [
      "6\n",
      "7\n"
     ]
    }
   ],
   "source": [
    "class Dog():\n",
    "    age = 5\n",
    "    def happyBirthday(self):\n",
    "        self.age += 1\n",
    "sam = Dog()\n",
    "sam.happyBirthday()\n",
    "print(sam.age)\n",
    "sam.happyBirthday()\n",
    "print(sam.age)"
   ]
  },
  {
   "cell_type": "code",
   "execution_count": 32,
   "metadata": {},
   "outputs": [
    {
     "name": "stdout",
     "output_type": "stream",
     "text": [
      "Puppy\n"
     ]
    }
   ],
   "source": [
    "class Dog():\n",
    "    age = 6\n",
    "    def getAge(self):\n",
    "        return self.age\n",
    "    def printInfo(self):\n",
    "        if self.getAge() < 10:\n",
    "            print(\"Puppy\")\n",
    "sam = Dog()\n",
    "sam.printInfo()"
   ]
  },
  {
   "cell_type": "code",
   "execution_count": 34,
   "metadata": {},
   "outputs": [
    {
     "name": "stdout",
     "output_type": "stream",
     "text": [
      "This is a dog class\n"
     ]
    }
   ],
   "source": [
    "class Dog():\n",
    "    def __str__(self):\n",
    "        return \"This is a dog class\"\n",
    "sam = Dog()\n",
    "print(sam)"
   ]
  },
  {
   "cell_type": "code",
   "execution_count": 35,
   "metadata": {},
   "outputs": [
    {
     "name": "stdout",
     "output_type": "stream",
     "text": [
      "feline\n"
     ]
    }
   ],
   "source": [
    "class Animals():\n",
    "    species = \"\"\n",
    "    def setSpecies(self, species):\n",
    "        self.species = species\n",
    "    def getSpecies(self):\n",
    "        return self.species\n",
    "lion = Animals()\n",
    "lion.setSpecies(\"feline\")\n",
    "print(lion.getSpecies())"
   ]
  },
  {
   "cell_type": "code",
   "execution_count": 38,
   "metadata": {},
   "outputs": [
    {
     "name": "stdout",
     "output_type": "stream",
     "text": [
      "What is your age? :2\n",
      "You are 2 years old.\n"
     ]
    }
   ],
   "source": [
    "class Person():\n",
    "    age = 0\n",
    "    def setAge(self):\n",
    "        self.age = int(input(\"What is your age? :\"))\n",
    "    def getAge(self):\n",
    "        return \"You are {} years old.\".format(self.age)\n",
    "person_1 = Person()\n",
    "person_1.setAge()\n",
    "print(person_1.getAge())"
   ]
  },
  {
   "cell_type": "markdown",
   "metadata": {},
   "source": [
    "# Inheritance"
   ]
  },
  {
   "cell_type": "code",
   "execution_count": 40,
   "metadata": {},
   "outputs": [
    {
     "name": "stdout",
     "output_type": "stream",
     "text": [
      "roar\n"
     ]
    },
    {
     "ename": "AttributeError",
     "evalue": "'Animal' object has no attribute 'species'",
     "output_type": "error",
     "traceback": [
      "\u001b[1;31m---------------------------------------------------------------------------\u001b[0m",
      "\u001b[1;31mAttributeError\u001b[0m                            Traceback (most recent call last)",
      "\u001b[1;32m<ipython-input-40-3a0cb6143665>\u001b[0m in \u001b[0;36m<module>\u001b[1;34m\u001b[0m\n\u001b[0;32m      7\u001b[0m \u001b[0msam\u001b[0m\u001b[1;33m.\u001b[0m\u001b[0mmakeSound\u001b[0m\u001b[1;33m(\u001b[0m\u001b[1;33m)\u001b[0m\u001b[1;33m\u001b[0m\u001b[1;33m\u001b[0m\u001b[0m\n\u001b[0;32m      8\u001b[0m \u001b[0mlion\u001b[0m \u001b[1;33m=\u001b[0m \u001b[0mAnimal\u001b[0m\u001b[1;33m(\u001b[0m\u001b[1;33m)\u001b[0m\u001b[1;33m\u001b[0m\u001b[1;33m\u001b[0m\u001b[0m\n\u001b[1;32m----> 9\u001b[1;33m \u001b[0mlion\u001b[0m\u001b[1;33m.\u001b[0m\u001b[0mspecies\u001b[0m\u001b[1;33m\u001b[0m\u001b[1;33m\u001b[0m\u001b[0m\n\u001b[0m",
      "\u001b[1;31mAttributeError\u001b[0m: 'Animal' object has no attribute 'species'"
     ]
    }
   ],
   "source": [
    "class Animal():\n",
    "    def makeSound(self):\n",
    "        print(\"roar\")\n",
    "class Dog(Animal):\n",
    "    species = \"Canine\"\n",
    "sam = Dog()\n",
    "sam.makeSound()\n",
    "lion = Animal()\n",
    "lion.species"
   ]
  },
  {
   "cell_type": "code",
   "execution_count": 41,
   "metadata": {},
   "outputs": [
    {
     "name": "stdout",
     "output_type": "stream",
     "text": [
      "bark\n",
      "roar\n"
     ]
    }
   ],
   "source": [
    "class Animal():\n",
    "    def makeSound(self):\n",
    "        print(\"roar\")\n",
    "class Dog(Animal):\n",
    "    def makeSound(self):\n",
    "        print(\"bark\")\n",
    "sam, lion = Dog(), Animal()\n",
    "sam.makeSound()\n",
    "lion.makeSound()"
   ]
  },
  {
   "cell_type": "code",
   "execution_count": 42,
   "metadata": {},
   "outputs": [
    {
     "name": "stdout",
     "output_type": "stream",
     "text": [
      "9.8 Ford\n"
     ]
    }
   ],
   "source": [
    "class Physics():\n",
    "    gravity = 9.8\n",
    "class Automobile():\n",
    "    def __init__(self, make, model, year):\n",
    "        self.make, self.model, self.year = make, model, year\n",
    "class Ford(Physics, Automobile):\n",
    "    def __init__(self, model, year):\n",
    "        Automobile.__init__(self, \"Ford\", model, year)\n",
    "truck = Ford(\"F-150\", 2018)\n",
    "print(truck.gravity, truck.make)"
   ]
  },
  {
   "cell_type": "code",
   "execution_count": 44,
   "metadata": {},
   "outputs": [
    {
     "name": "stdout",
     "output_type": "stream",
     "text": [
      "Hello, my name is Max and I'm on the good guys\n",
      "Hello, my name is Tony and I'm on the bad guys\n"
     ]
    }
   ],
   "source": [
    "class Characters():\n",
    "    def __init__(self, name, team, height, weight):\n",
    "        self.name, self.team, self.height, self.weight = name, team, height, weight\n",
    "    def sayHello(self):\n",
    "        return \"Hello, my name is {} and I'm on the {} guys\".format(self.name, self.team)\n",
    "class GoodPlayers(Characters):\n",
    "    def __init__(self, name, height, weight):\n",
    "        Characters.__init__(self, name, \"good\", height, weight)\n",
    "class BadPlayers(Characters):\n",
    "    def __init__(self, name, height, weight):\n",
    "        Characters.__init__(self, name, \"bad\", height, weight)\n",
    "player_1 = GoodPlayers(\"Max\", 180, 65)\n",
    "player_2 = BadPlayers(\"Tony\", 200, 90)\n",
    "print(player_1.sayHello())\n",
    "print(player_2.sayHello())"
   ]
  },
  {
   "cell_type": "markdown",
   "metadata": {},
   "source": [
    "# Friday Project: Creating Blackjack."
   ]
  },
  {
   "cell_type": "code",
   "execution_count": 2,
   "metadata": {},
   "outputs": [
    {
     "name": "stdout",
     "output_type": "stream",
     "text": [
      "Game over.\n"
     ]
    }
   ],
   "source": [
    "\n",
    "from random import randint\n",
    "from IPython.display import clear_output\n",
    "\n",
    "\n",
    "class Blackjack():\n",
    "    def __init__(self):\n",
    "        self.deck = []\n",
    "        self.suits = (\"Spades\", \"Hearts\", \"Diamonds\", \"Clubs\")\n",
    "        self.values = (2, 3, 4, 5, 6, 7, 8, 9, 10, \"J\", \"Q\", \"K\", \"A\")\n",
    "        self.name = input(\"What is your name?\")\n",
    "        self.player = Player(self.name)\n",
    "        self.dealer = Player(\"Dealer\")\n",
    "        self.game_over = False\n",
    "        self.player_bust = False\n",
    "    \n",
    "    \n",
    "    def makeDeck(self):\n",
    "        for suit in self.suits:\n",
    "            for value in self.values:\n",
    "                self.deck.append((value,suit))\n",
    "                \n",
    "                \n",
    "    def pullCard(self):\n",
    "        return self.deck.pop(randint(0, len(self.deck) - 1))\n",
    "    \n",
    "    def main(self):\n",
    "        while not self.game_over:\n",
    "            clear_output()\n",
    "            \n",
    "            self.player.setWager()\n",
    "            print(\"You have made a bet {}$. And your bank is {}$\".format(self.player.getWager(), self.player.getBank()))\n",
    "            self.makeDeck()\n",
    "            \n",
    "            for i in range(2):\n",
    "                self.player.addCard(game.pullCard())\n",
    "                self.dealer.addCard(game.pullCard())\n",
    "\n",
    "            self.player.showHand()\n",
    "            self.dealer.showHand()      \n",
    "\n",
    "            while input(\"Would you like to stay or hit? \").lower() != \"stay\":\n",
    "                clear_output()\n",
    "\n",
    "                self.player.addCard(game.pullCard())\n",
    "\n",
    "                self.player.showHand()\n",
    "                self.dealer.showHand()\n",
    "\n",
    "                if self.player.calcHand() > 21:\n",
    "                    self.player_bust = True\n",
    "                    print(\"You lose!\")\n",
    "                    break\n",
    "\n",
    "            self.dealer_bust = False\n",
    "            if not self.player_bust:\n",
    "                while self.dealer.calcHand(False) < 17:\n",
    "\n",
    "                    self.dealer.addCard(self.pullCard())\n",
    "\n",
    "                    if self.dealer.calcHand(False) > 21:\n",
    "                        self.dealer_bust = True\n",
    "                        print(\"You win!\")\n",
    "                    break\n",
    "            clear_output()\n",
    "\n",
    "            self.player.showHand()\n",
    "            self.dealer.showHand(False)\n",
    "\n",
    "\n",
    "            if self.player_bust:\n",
    "                print(\"You busted, better luck next time\")    \n",
    "                self.player.setBank(self.player.getBank() - self.player.getWager())\n",
    "                print(\"You lost {}$. Your current bank is {}$\".format(self.player.getWager(), self.player.getBank()))\n",
    "            elif self.dealer_bust:\n",
    "                print(\"The dealer busted, you win!\")\n",
    "                self.player.setBank(self.player.getBank() + self.player.getWager())\n",
    "                print(\"You win {}$. Your current bank is {}$\".format(self.player.getWager(), self.player.getBank()))\n",
    "            elif self.dealer.calcHand(False) > self.player.calcHand():\n",
    "                print(\"Dealer has higher cards, you lose\")\n",
    "                self.player.setBank(self.player.getBank() - self.player.getWager())\n",
    "                print(\"You lost {}$. Your current bank is {}$\".format(self.player.getWager(), self.player.getBank()))\n",
    "            elif self.dealer.calcHand(False) < self.player.calcHand():\n",
    "                print(\"You beat the dealer! Congrats\")\n",
    "                self.player.setBank(self.player.getBank() + self.player.getWager())\n",
    "                print(\"You win {}$. Your current bank is {}$\".format(self.player.getWager(), self.player.getBank()))\n",
    "            else:\n",
    "                print(\"You pushed, no one wins!\")\n",
    "                print(\"Your bank is {}$\".format(self.player.getBank()))\n",
    "\n",
    "            if input(\"Press Enter to play again or type quit to leave the game: \").lower() == \"quit\":\n",
    "                clear_output()\n",
    "                self.game_over = True\n",
    "                print(\"Game over.\")\n",
    "            else:\n",
    "                self.player.clearHand()\n",
    "                self.dealer.clearHand()\n",
    "                self.player_bust = False\n",
    "            \n",
    "    \n",
    "class Player():\n",
    "    def __init__(self, name):\n",
    "        self.name = name\n",
    "        self.hand = []\n",
    "        self.bank = 0\n",
    "        self.wager = 0\n",
    "        \n",
    "    def addCard(self, card):\n",
    "        self.hand.append(card)\n",
    "        \n",
    "        \n",
    "    def showHand(self, dealer_start = True):\n",
    "        print(\"\\n{}\".format(self.name))\n",
    "        print(\"===========\")\n",
    "        \n",
    "        for i in range(len(self.hand)):\n",
    "            if self.name == \"Dealer\" and i == 0 and dealer_start:\n",
    "                print(\"- of -\")\n",
    "            else:\n",
    "                card = self.hand[i]\n",
    "                print(\"{} of {}\".format(card[0], card[1]))\n",
    "                \n",
    "    def clearHand(self):\n",
    "        self.hand = []\n",
    "        \n",
    "    def setWager(self):\n",
    "        self.wager = int(input(\"What is your bet? Type the aount of money: \"))\n",
    "    \n",
    "    def getWager(self):\n",
    "        return self.wager\n",
    "        \n",
    "    def setBank(self, num):\n",
    "        self.bank = int(num)\n",
    "        \n",
    "    def getBank(self):\n",
    "        return self.bank\n",
    "                                \n",
    "                \n",
    "    def calcHand(self, dealer_start = True):\n",
    "        total = 0\n",
    "        aces = 0\n",
    "        card_value = {1:1, 2:2, 3:3, 4:4, 5:5, 6:6, 7:7, 8:8, 9:9, 10:10, \"J\":10, \"Q\":10, \"K\":10, \"A\":11}\n",
    "        \n",
    "        if self.name == \"Dealer\" and dealer_start:\n",
    "            card = self.hand[0]\n",
    "            return card_value[card[0]]\n",
    "        \n",
    "        for card in self.hand:\n",
    "            if card[0] == \"A\":\n",
    "                aces += 1\n",
    "            else:\n",
    "                total += card_value[card[0]]\n",
    "        \n",
    "        for i in range(aces):\n",
    "            if total + 11 > 21:\n",
    "                total += 1\n",
    "            else:\n",
    "                total += 11\n",
    "        \n",
    "        return total\n",
    "    \n",
    "game = Blackjack()   \n",
    "game.main()"
   ]
  },
  {
   "cell_type": "code",
   "execution_count": null,
   "metadata": {},
   "outputs": [],
   "source": []
  }
 ],
 "metadata": {
  "kernelspec": {
   "display_name": "Python 3",
   "language": "python",
   "name": "python3"
  },
  "language_info": {
   "codemirror_mode": {
    "name": "ipython",
    "version": 3
   },
   "file_extension": ".py",
   "mimetype": "text/x-python",
   "name": "python",
   "nbconvert_exporter": "python",
   "pygments_lexer": "ipython3",
   "version": "3.7.6"
  }
 },
 "nbformat": 4,
 "nbformat_minor": 4
}
