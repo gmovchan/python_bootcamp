{
 "cells": [
  {
   "cell_type": "markdown",
   "metadata": {},
   "source": [
    "# List Comprehension"
   ]
  },
  {
   "cell_type": "code",
   "execution_count": 4,
   "metadata": {},
   "outputs": [
    {
     "name": "stdout",
     "output_type": "stream",
     "text": [
      "[0, 1, 2, 3, 4, 5, 6, 7, 8, 9, 10, 11, 12, 13, 14, 15, 16, 17, 18, 19, 20, 21, 22, 23, 24, 25, 26, 27, 28, 29, 30, 31, 32, 33, 34, 35, 36, 37, 38, 39, 40, 41, 42, 43, 44, 45, 46, 47, 48, 49, 50, 51, 52, 53, 54, 55, 56, 57, 58, 59, 60, 61, 62, 63, 64, 65, 66, 67, 68, 69, 70, 71, 72, 73, 74, 75, 76, 77, 78, 79, 80, 81, 82, 83, 84, 85, 86, 87, 88, 89, 90, 91, 92, 93, 94, 95, 96, 97, 98, 99]\n"
     ]
    }
   ],
   "source": [
    "nums = [y for y in range(100)]\n",
    "print(nums)"
   ]
  },
  {
   "cell_type": "code",
   "execution_count": 5,
   "metadata": {},
   "outputs": [
    {
     "name": "stdout",
     "output_type": "stream",
     "text": [
      "[0, 2, 4, 6, 8]\n"
     ]
    }
   ],
   "source": [
    "nums = [ x for x in range(10) if x % 2 == 0]\n",
    "print(nums)"
   ]
  },
  {
   "cell_type": "code",
   "execution_count": 7,
   "metadata": {},
   "outputs": [
    {
     "name": "stdout",
     "output_type": "stream",
     "text": [
      "['Even', 'Odd', 'Even', 'Odd', 'Even', 'Odd', 'Even', 'Odd', 'Even', 'Odd']\n"
     ]
    }
   ],
   "source": [
    "nums = [\"Even\" if x % 2 == 0 else \"Odd\" for x in range(10)]\n",
    "print(nums)"
   ]
  },
  {
   "cell_type": "code",
   "execution_count": 8,
   "metadata": {},
   "outputs": [
    {
     "name": "stdout",
     "output_type": "stream",
     "text": [
      "[2, 4, 5, 8]\n",
      "[4, 16, 25, 64]\n"
     ]
    }
   ],
   "source": [
    "nums = [2, 4, 5, 8]\n",
    "squared_nums = [num**2 for num in nums]\n",
    "print(nums)\n",
    "print(squared_nums)"
   ]
  },
  {
   "cell_type": "code",
   "execution_count": 9,
   "metadata": {},
   "outputs": [
    {
     "name": "stdout",
     "output_type": "stream",
     "text": [
      "{0: 0, 2: 4, 4: 16, 6: 36, 8: 64}\n"
     ]
    }
   ],
   "source": [
    "numbers = [x for x in range (10)]\n",
    "squares = {num : num ** 2 for num in numbers if num % 2 == 0}\n",
    "print(squares)"
   ]
  },
  {
   "cell_type": "code",
   "execution_count": 23,
   "metadata": {},
   "outputs": [
    {
     "name": "stdout",
     "output_type": "stream",
     "text": [
      "[53.6, 69.8, 59.0, 89.6]\n"
     ]
    }
   ],
   "source": [
    "degrees = [12, 21, 15, 32]\n",
    "fahrenheit = [ round((9/5) * c + 32, 1) for c in degrees]\n",
    "print(fahrenheit)"
   ]
  },
  {
   "cell_type": "code",
   "execution_count": 22,
   "metadata": {},
   "outputs": [
    {
     "name": "stdout",
     "output_type": "stream",
     "text": [
      "type a number up to and including 100: 25\n",
      "[25, 50, 75, 100]\n"
     ]
    }
   ],
   "source": [
    "num = int(input(\"type a number up to and including 100: \"))\n",
    "numbers = [x for x in range(1, 101) if x % num == 0]\n",
    "print(numbers)"
   ]
  },
  {
   "cell_type": "markdown",
   "metadata": {},
   "source": [
    "# Lambda Functions"
   ]
  },
  {
   "cell_type": "code",
   "execution_count": 25,
   "metadata": {},
   "outputs": [
    {
     "data": {
      "text/plain": [
       "16"
      ]
     },
     "execution_count": 25,
     "metadata": {},
     "output_type": "execute_result"
    }
   ],
   "source": [
    "(lambda x : x ** 2)(4)"
   ]
  },
  {
   "cell_type": "code",
   "execution_count": 26,
   "metadata": {},
   "outputs": [
    {
     "data": {
      "text/plain": [
       "50"
      ]
     },
     "execution_count": 26,
     "metadata": {},
     "output_type": "execute_result"
    }
   ],
   "source": [
    "(lambda x, y : x * y)(10, 5)"
   ]
  },
  {
   "cell_type": "code",
   "execution_count": 27,
   "metadata": {},
   "outputs": [
    {
     "name": "stdout",
     "output_type": "stream",
     "text": [
      "<function <lambda> at 0x00000233DE21C708>\n",
      "50\n"
     ]
    }
   ],
   "source": [
    "square = lambda x, y : x * y\n",
    "print(square)\n",
    "result = square(10, 5)\n",
    "print(result)"
   ]
  },
  {
   "cell_type": "code",
   "execution_count": 28,
   "metadata": {},
   "outputs": [
    {
     "name": "stdout",
     "output_type": "stream",
     "text": [
      "10\n"
     ]
    }
   ],
   "source": [
    "grater = lambda x, y: x if x > y else y\n",
    "result = grater(5, 10)\n",
    "print(result)"
   ]
  },
  {
   "cell_type": "code",
   "execution_count": 29,
   "metadata": {},
   "outputs": [
    {
     "name": "stdout",
     "output_type": "stream",
     "text": [
      "10\n",
      "15\n"
     ]
    }
   ],
   "source": [
    "def my_func(n):\n",
    "    return lambda x : x * n\n",
    "doubler = my_func(2)\n",
    "print(doubler(5))\n",
    "tripler = my_func(3)\n",
    "print(tripler(5))"
   ]
  },
  {
   "cell_type": "code",
   "execution_count": 31,
   "metadata": {},
   "outputs": [
    {
     "data": {
      "text/plain": [
       "'False'"
      ]
     },
     "execution_count": 31,
     "metadata": {},
     "output_type": "execute_result"
    }
   ],
   "source": [
    "(lambda x : \"True\" if x > 50 else \"False\")(49)"
   ]
  },
  {
   "cell_type": "code",
   "execution_count": 32,
   "metadata": {},
   "outputs": [
    {
     "data": {
      "text/plain": [
       "12.0"
      ]
     },
     "execution_count": 32,
     "metadata": {},
     "output_type": "execute_result"
    }
   ],
   "source": [
    "(lambda x : round((x - 32) / (9/5), 1))(53.6)"
   ]
  },
  {
   "cell_type": "markdown",
   "metadata": {},
   "source": [
    "# Map, reduce, and Filter"
   ]
  },
  {
   "cell_type": "code",
   "execution_count": 34,
   "metadata": {},
   "outputs": [
    {
     "name": "stdout",
     "output_type": "stream",
     "text": [
      "<map object at 0x00000233DE617D08>\n",
      "[54.5, 56.5, 59.0, 48.6]\n"
     ]
    }
   ],
   "source": [
    "def convertDeg(C):\n",
    "    return round((9/5) * C + 32, 1)\n",
    "temps = [12.5, 13.6, 15, 9.2]\n",
    "converted_temps = map(convertDeg, temps)\n",
    "print(converted_temps)\n",
    "converted_temps = list(converted_temps)\n",
    "print(converted_temps)"
   ]
  },
  {
   "cell_type": "code",
   "execution_count": 38,
   "metadata": {},
   "outputs": [
    {
     "name": "stdout",
     "output_type": "stream",
     "text": [
      "[54.5, 56.480000000000004, 59.0, 48.56]\n"
     ]
    }
   ],
   "source": [
    "temps = [12.5, 13.6, 15, 9.2]\n",
    "converted_temps = list(map(lambda C : (9/5) * C + 32, temps))\n",
    "print(converted_temps)"
   ]
  },
  {
   "cell_type": "code",
   "execution_count": 39,
   "metadata": {},
   "outputs": [
    {
     "name": "stdout",
     "output_type": "stream",
     "text": [
      "<filter object at 0x00000233DE3CAE48>\n",
      "[13.6, 15]\n"
     ]
    }
   ],
   "source": [
    "def filterTemps(C):\n",
    "    converted = round((9/5) * C + 32, 1)\n",
    "    return True if converted > 55 else False\n",
    "temps = [12.5, 13.6, 15, 9.2]\n",
    "filtered_temps = filter(filterTemps, temps)\n",
    "print(filtered_temps)\n",
    "filtered_temps = list(filtered_temps)\n",
    "print(filtered_temps)"
   ]
  },
  {
   "cell_type": "code",
   "execution_count": 41,
   "metadata": {},
   "outputs": [
    {
     "name": "stdout",
     "output_type": "stream",
     "text": [
      "[13.6, 15]\n"
     ]
    }
   ],
   "source": [
    "temps = [12.5, 13.6, 15, 9.2]\n",
    "filtered_temps = list(filter(lambda C : True if round((9/5) * C + 32, 1) > 55 else False, temps))\n",
    "print(filtered_temps)"
   ]
  },
  {
   "cell_type": "code",
   "execution_count": 43,
   "metadata": {},
   "outputs": [
    {
     "name": "stdout",
     "output_type": "stream",
     "text": [
      "24\n"
     ]
    }
   ],
   "source": [
    "from functools import reduce\n",
    "nums = [1, 2, 3, 4]\n",
    "result = reduce(lambda a, b : a * b, nums)\n",
    "print(result)"
   ]
  },
  {
   "cell_type": "code",
   "execution_count": 45,
   "metadata": {},
   "outputs": [
    {
     "name": "stdout",
     "output_type": "stream",
     "text": [
      "['Ryan', 'Paul', 'Kevin Connors']\n"
     ]
    }
   ],
   "source": [
    "names = [\"   ryan\", \"PAUL\", \"kevin Connors   \"]\n",
    "editedNames = list(map(lambda name : (name).strip().title(), names))\n",
    "print(editedNames)"
   ]
  },
  {
   "cell_type": "code",
   "execution_count": 48,
   "metadata": {},
   "outputs": [
    {
     "name": "stdout",
     "output_type": "stream",
     "text": [
      "['Frank', 'Ripal']\n"
     ]
    }
   ],
   "source": [
    "names = [\"Amanda\", \"Frank\", \"abby\", \"Ripal\", \"Adam\"]\n",
    "filteredNames = list(filter(lambda name : True if name[0].upper() != \"A\" else False, names))\n",
    "print(filteredNames)"
   ]
  },
  {
   "cell_type": "markdown",
   "metadata": {},
   "source": [
    "# Recursive Functions and Memoization"
   ]
  },
  {
   "cell_type": "code",
   "execution_count": 2,
   "metadata": {},
   "outputs": [
    {
     "name": "stdout",
     "output_type": "stream",
     "text": [
      "120\n"
     ]
    }
   ],
   "source": [
    "def factorial(n):\n",
    "    if n <= 1:\n",
    "        return 1\n",
    "    else:\n",
    "        return factorial(n - 1) * n\n",
    "print(factorial(5))"
   ]
  },
  {
   "cell_type": "code",
   "execution_count": 7,
   "metadata": {},
   "outputs": [
    {
     "name": "stdout",
     "output_type": "stream",
     "text": [
      "102334155\n"
     ]
    }
   ],
   "source": [
    "def fib(n):\n",
    "    if n <= 1:\n",
    "        return n\n",
    "    else: return fib(n - 1) + fib(n - 2)\n",
    "print(fib(40))"
   ]
  },
  {
   "cell_type": "code",
   "execution_count": 12,
   "metadata": {},
   "outputs": [
    {
     "name": "stdout",
     "output_type": "stream",
     "text": [
      "12586269025\n",
      "{1: 1, 0: 0, 2: 1, 3: 2, 4: 3, 5: 5, 6: 8, 7: 13, 8: 21, 9: 34, 10: 55, 11: 89, 12: 144, 13: 233, 14: 377, 15: 610, 16: 987, 17: 1597, 18: 2584, 19: 4181, 20: 6765, 21: 10946, 22: 17711, 23: 28657, 24: 46368, 25: 75025, 26: 121393, 27: 196418, 28: 317811, 29: 514229, 30: 832040, 31: 1346269, 32: 2178309, 33: 3524578, 34: 5702887, 35: 9227465, 36: 14930352, 37: 24157817, 38: 39088169, 39: 63245986, 40: 102334155, 41: 165580141, 42: 267914296, 43: 433494437, 44: 701408733, 45: 1134903170, 46: 1836311903, 47: 2971215073, 48: 4807526976, 49: 7778742049, 50: 12586269025}\n"
     ]
    }
   ],
   "source": [
    "cache = {}\n",
    "def fib(n):\n",
    "    if n in cache:\n",
    "        return cache[n]\n",
    "    result = 0\n",
    "    if n <= 1:\n",
    "        result = n\n",
    "    else:\n",
    "        result = fib(n - 1) + fib(n - 2)\n",
    "    cache[n] = result\n",
    "\n",
    "    return result\n",
    "print(fib(50))\n",
    "print(cache)"
   ]
  },
  {
   "cell_type": "code",
   "execution_count": null,
   "metadata": {},
   "outputs": [],
   "source": [
    "from functools import lru_cache\n",
    "lru_cache()\n",
    "def fib(n):\n",
    "    if n <= 1:\n",
    "        return n\n",
    "    else: return fib(n - 1) + fib(n - 2)\n",
    "print(fib(50))"
   ]
  },
  {
   "cell_type": "code",
   "execution_count": 27,
   "metadata": {},
   "outputs": [
    {
     "name": "stdout",
     "output_type": "stream",
     "text": [
      "[2, 3, [99, 34, 54, [18, 22], 55], 6, 34]\n",
      "[3, [99, 34, 54, [18, 22], 55], 6, 34]\n",
      "[[99, 34, 54, [18, 22], 55], 6, 34]\n",
      "[34, 54, [18, 22], 55]\n",
      "[54, [18, 22], 55]\n",
      "[[18, 22], 55]\n"
     ]
    },
    {
     "data": {
      "text/plain": [
       "True"
      ]
     },
     "execution_count": 27,
     "metadata": {},
     "output_type": "execute_result"
    }
   ],
   "source": [
    "def searchList(date, query):\n",
    "    print(date)\n",
    "    if date:\n",
    "        if isinstance(date[0], list):\n",
    "            if query in date[0]:\n",
    "                return True\n",
    "            else:\n",
    "                date[0].pop(0)\n",
    "                return searchList(date[0], query)            \n",
    "        elif date[0] == query:\n",
    "            return True\n",
    "        else:\n",
    "            date.pop(0)\n",
    "            return searchList(date, query)\n",
    "    return False\n",
    "    \n",
    "#searchList([2, 3, [18, 22], 6], 22)\n",
    "searchList([2, 3, [99, 34, 54, [18, 22], 55,], 6, 34], 22)"
   ]
  },
  {
   "cell_type": "code",
   "execution_count": 4,
   "metadata": {},
   "outputs": [
    {
     "data": {
      "text/plain": [
       "[3, [18, 22], 6]"
      ]
     },
     "execution_count": 4,
     "metadata": {},
     "output_type": "execute_result"
    }
   ],
   "source": [
    "date = [2, 3, [18, 22], 6]\n",
    "date[1::]"
   ]
  },
  {
   "cell_type": "markdown",
   "metadata": {},
   "source": [
    "# Friday project: Writing a Binary Search"
   ]
  },
  {
   "cell_type": "code",
   "execution_count": 63,
   "metadata": {},
   "outputs": [
    {
     "name": "stdout",
     "output_type": "stream",
     "text": [
      "[1, 4, 5, 6, 14, 16, 17, 18, 19, 20]\n",
      "[1, 4, 5, 6, 14]\n",
      "[6, 14]\n",
      "[6]\n",
      "[]\n",
      "False\n"
     ]
    }
   ],
   "source": [
    "import random\n",
    "\n",
    "\n",
    "nums = [random.randint(0, 20) for i in range(10)]\n",
    "\n",
    "def binarySearch(aList, num):\n",
    "    \n",
    "    aList.sort()\n",
    "    \n",
    "    \n",
    "    while aList:\n",
    "        mid = len(aList) // 2\n",
    "        #print(mid)\n",
    "        if aList[mid] == num:\n",
    "            return True\n",
    "        elif aList[mid] > num:\n",
    "            aList = aList[:mid]\n",
    "        elif aList[mid] < num:\n",
    "            aList = aList[mid + 1:]\n",
    "        print(aList)\n",
    "        \n",
    "    return False\n",
    "print(sorted(nums))\n",
    "print(binarySearch(nums, 10))\n",
    "\n",
    "\n",
    "\n"
   ]
  },
  {
   "cell_type": "code",
   "execution_count": 130,
   "metadata": {},
   "outputs": [
    {
     "name": "stdout",
     "output_type": "stream",
     "text": [
      "Type a number: 12\n",
      "That is not a prime number\n"
     ]
    }
   ],
   "source": [
    "num = int(input(\"Type a number: \"))\n",
    "def isPrime(num):\n",
    "    if num < 2:\n",
    "        return False\n",
    "    for n in range(2, num):\n",
    "        if (num / n) % 1 == 0:\n",
    "            return False\n",
    "    return True\n",
    "print(\"{}\".format(\"That is a prime number\" if isPrime(num) else \"That is not a prime number\"))"
   ]
  },
  {
   "cell_type": "code",
   "execution_count": 127,
   "metadata": {},
   "outputs": [
    {
     "name": "stdout",
     "output_type": "stream",
     "text": [
      "Type a number: 11\n"
     ]
    },
    {
     "data": {
      "text/plain": [
       "True"
      ]
     },
     "execution_count": 127,
     "metadata": {},
     "output_type": "execute_result"
    }
   ],
   "source": [
    "num = int(input(\"Type a number: \"))\n",
    "def isPrime(num):\n",
    "    nums = [x for x in range(2, num) if (num / x) % 1 == 0]\n",
    "    result = False if num < 2 or nums else True\n",
    "    return result\n",
    "isPrime(num)"
   ]
  },
  {
   "cell_type": "code",
   "execution_count": 155,
   "metadata": {},
   "outputs": [
    {
     "name": "stdout",
     "output_type": "stream",
     "text": [
      "Type a number: 1\n",
      "That is a prime number\n"
     ]
    }
   ],
   "source": [
    "num = int(input(\"Type a number: \"))\n",
    "def isPrime(num):\n",
    "    for n in range(2, int(num**0.5) + 1):\n",
    "        if num % n == 0:\n",
    "            return False\n",
    "    else:\n",
    "        return True\n",
    "print(\"{}\".format(\"That is a prime number\" if isPrime(num) else \"That is not a prime number\"))"
   ]
  },
  {
   "cell_type": "code",
   "execution_count": 218,
   "metadata": {},
   "outputs": [
    {
     "name": "stdout",
     "output_type": "stream",
     "text": [
      "[0, 0, 0, 2, 2, 7, 10, 11, 16, 19]\n",
      "[0, 0, 0, 2, 2, 7, 10, 11, 16, 19]\n",
      "[10, 11, 16, 19]\n",
      "[10, 11]\n",
      "[10]\n",
      "True\n"
     ]
    }
   ],
   "source": [
    "import random\n",
    "\n",
    "\n",
    "nums = [random.randint(0, 20) for i in range(10)]\n",
    "\n",
    "def binarySearch(aList, num, first_iteration = True):    \n",
    "    if first_iteration: aList.sort()\n",
    "    print(aList)\n",
    "    if aList:\n",
    "        mid = len(aList) // 2\n",
    "        if aList[mid] == num:\n",
    "            return True\n",
    "        elif aList[mid] > num:\n",
    "            aList = aList[:mid]\n",
    "        elif aList[mid] < num:\n",
    "            aList = aList[mid + 1:]\n",
    "        return binarySearch(aList, num, False)\n",
    "    else:\n",
    "        return False\n",
    "      \n",
    "print(sorted(nums))\n",
    "print(binarySearch(nums, 10))\n",
    "\n",
    "\n",
    "\n"
   ]
  },
  {
   "cell_type": "code",
   "execution_count": 225,
   "metadata": {},
   "outputs": [
    {
     "name": "stdout",
     "output_type": "stream",
     "text": [
      "['1022', '22', '3', '4', 'a', 'e', 'hello']\n",
      "['1022', '22', '3']\n",
      "['3']\n",
      "[]\n",
      "False\n"
     ]
    }
   ],
   "source": [
    "import random\n",
    "\n",
    "dataList = ['a', 22, '3', 'hello', 1022, 4, 'e']\n",
    "\n",
    "nums = [random.randint(0, 20) for i in range(10)]\n",
    "\n",
    "def binarySearch(aList, aQuery, first_iteration = True):\n",
    "    aQuery = str(aQuery) if not isinstance(aQuery, str) else aQuery\n",
    "    aList = list(map(lambda x : str(x), aList))\n",
    "    if first_iteration: aList.sort()\n",
    "    print(aList)\n",
    "    if aList:\n",
    "        mid = len(aList) // 2\n",
    "        if aList[mid] == aQuery:\n",
    "            return True\n",
    "        elif aList[mid] > aQuery:\n",
    "            aList = aList[:mid]\n",
    "        elif aList[mid] < aQuery:\n",
    "            aList = aList[mid + 1:]\n",
    "        return binarySearch(aList, aQuery, False)\n",
    "    else:\n",
    "        return False\n",
    "      \n",
    "print(binarySearch(dataList, \"hello\"))\n"
   ]
  },
  {
   "cell_type": "code",
   "execution_count": 203,
   "metadata": {},
   "outputs": [
    {
     "data": {
      "text/plain": [
       "True"
      ]
     },
     "execution_count": 203,
     "metadata": {},
     "output_type": "execute_result"
    }
   ],
   "source": [
    "\"a\" < \"hellow\""
   ]
  },
  {
   "cell_type": "code",
   "execution_count": 14,
   "metadata": {},
   "outputs": [
    {
     "name": "stdout",
     "output_type": "stream",
     "text": [
      "Count: 24\n",
      "True\n"
     ]
    }
   ],
   "source": [
    "import random\n",
    "\n",
    "\n",
    "nums = [i for i in range(10000000)]\n",
    "#print(nums)\n",
    "random.shuffle(nums)\n",
    "#print(nums)\n",
    "\n",
    "def binarySearch(aList, num):\n",
    "    count = 0\n",
    "    \n",
    "    aList.sort()\n",
    "    \n",
    "    \n",
    "    while aList:\n",
    "        count += 1\n",
    "        mid = len(aList) // 2\n",
    "        #print(mid)\n",
    "        if aList[mid] == num:\n",
    "            print(\"Count: {}\".format(count))\n",
    "            return True\n",
    "        elif aList[mid] > num:\n",
    "            aList = aList[:mid]\n",
    "        elif aList[mid] < num:\n",
    "            aList = aList[mid + 1:]\n",
    "        #print(aList)\n",
    "    print(\"Count: {}\".format(count))    \n",
    "    return False\n",
    "#print(sorted(nums))\n",
    "print(binarySearch(nums, 548999))\n",
    "\n",
    "\n",
    "\n"
   ]
  },
  {
   "cell_type": "code",
   "execution_count": null,
   "metadata": {},
   "outputs": [],
   "source": []
  }
 ],
 "metadata": {
  "kernelspec": {
   "display_name": "Python 3",
   "language": "python",
   "name": "python3"
  },
  "language_info": {
   "codemirror_mode": {
    "name": "ipython",
    "version": 3
   },
   "file_extension": ".py",
   "mimetype": "text/x-python",
   "name": "python",
   "nbconvert_exporter": "python",
   "pygments_lexer": "ipython3",
   "version": "3.7.6"
  }
 },
 "nbformat": 4,
 "nbformat_minor": 4
}
