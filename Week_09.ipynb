{
 "cells": [
  {
   "cell_type": "markdown",
   "metadata": {},
   "source": [
    "# Generators and Iterators"
   ]
  },
  {
   "cell_type": "code",
   "execution_count": 9,
   "metadata": {},
   "outputs": [
    {
     "name": "stdout",
     "output_type": "stream",
     "text": [
      "baseball\n",
      "soccer\n",
      "football\n",
      "hockey\n",
      "basketball\n",
      "[]\n"
     ]
    }
   ],
   "source": [
    "sports = [\"baseball\", \"soccer\", \"football\", \"hockey\", \"basketball\"]\n",
    "my_iter = iter(sports)\n",
    "#print(list(my_iter))\n",
    "print(next(my_iter))\n",
    "print(next(my_iter))\n",
    "for item in my_iter:\n",
    "    print(item)\n",
    "#print(next(my_iter))\n",
    "print(list(my_iter))"
   ]
  },
  {
   "cell_type": "code",
   "execution_count": 19,
   "metadata": {},
   "outputs": [
    {
     "name": "stdout",
     "output_type": "stream",
     "text": [
      "a\n",
      "b\n",
      "c\n",
      "d\n",
      "e\n",
      "f\n",
      "g\n",
      "h\n",
      "i\n",
      "j\n",
      "k\n",
      "l\n",
      "m\n",
      "n\n",
      "o\n",
      "p\n",
      "q\n",
      "r\n",
      "s\n",
      "t\n",
      "u\n",
      "v\n",
      "w\n",
      "x\n",
      "y\n",
      "z\n"
     ]
    }
   ],
   "source": [
    "class Alphabet():\n",
    "    def __iter__(self):\n",
    "        self.letters = \"abcdefghijklmnopqrstuvwxyz\"\n",
    "        self.index = 0\n",
    "        return self\n",
    "    def __next__(self):\n",
    "        if self.index <= 25:\n",
    "            char = self.letters[self.index]\n",
    "            self.index += 1\n",
    "            return char\n",
    "        else:\n",
    "            raise StopIteration\n",
    "for char in Alphabet():\n",
    "    print(char)"
   ]
  },
  {
   "cell_type": "code",
   "execution_count": 26,
   "metadata": {},
   "outputs": [
    {
     "name": "stdout",
     "output_type": "stream",
     "text": [
      "Gentrator Start Value: 0\n",
      "Gentrator Start Value: 1\n",
      "Gentrator Start Value: 2\n",
      "Gentrator Start Value: 3\n",
      "Gentrator Start Value: 4\n"
     ]
    }
   ],
   "source": [
    "def myRange(stop, start = 0, step = 1):\n",
    "    while start < stop:\n",
    "        print(\"Gentrator Start Value: {}\".format(start))\n",
    "        yield start\n",
    "        start += step\n",
    "for x in myRange(5):\n",
    "    print(\"For Loop X Value: {}\".format(x))"
   ]
  },
  {
   "cell_type": "code",
   "execution_count": 24,
   "metadata": {},
   "outputs": [
    {
     "name": "stdout",
     "output_type": "stream",
     "text": [
      "<generator object myRange at 0x000001DA9E0AB948>\n"
     ]
    }
   ],
   "source": [
    "def myRange(stop, start = 0, step = 1):\n",
    "    while start < stop:\n",
    "        print(\"Gentrator Start Value: {}\".format(start))\n",
    "        yield start\n",
    "        start += step\n",
    "print(myRange(5))"
   ]
  },
  {
   "cell_type": "code",
   "execution_count": 22,
   "metadata": {},
   "outputs": [
    {
     "name": "stdout",
     "output_type": "stream",
     "text": [
      "5\n",
      "4\n",
      "3\n",
      "2\n",
      "1\n"
     ]
    }
   ],
   "source": [
    "class RevIter():\n",
    "    def __init__(self, aList):\n",
    "        self.aList = aList\n",
    "        self.index = len(self.aList) - 1\n",
    "    def __iter__(self):        \n",
    "        return self\n",
    "    def __next__(self):\n",
    "        if self.index >= 0:\n",
    "            char = self.aList[self.index]\n",
    "            self.index -= 1\n",
    "            return char\n",
    "        else:\n",
    "            raise StopIteration\n",
    "rev_iter = RevIter([1, 2, 3, 4, 5])\n",
    "for i in rev_iter:\n",
    "    print(i)"
   ]
  },
  {
   "cell_type": "code",
   "execution_count": 19,
   "metadata": {},
   "outputs": [
    {
     "name": "stdout",
     "output_type": "stream",
     "text": [
      "Start value: 0\n",
      "X Value: 0\n",
      "Start value: 1\n",
      "X Value: 1\n",
      "Start value: 4\n",
      "X Value: 4\n",
      "Start value: 16\n",
      "X Value: 16\n"
     ]
    }
   ],
   "source": [
    "def squareRange(stop, start = 0, step = 1):\n",
    "    while start < stop**2:\n",
    "        if start > 1:\n",
    "            start = start**2\n",
    "            print(\"Start value: {}\".format(start))\n",
    "            yield start\n",
    "        else:\n",
    "            print(\"Start value: {}\".format(start))\n",
    "            yield start\n",
    "            start += 1\n",
    "for x in squareRange(4):\n",
    "    print(\"X Value: {}\".format(x))"
   ]
  },
  {
   "cell_type": "code",
   "execution_count": 25,
   "metadata": {},
   "outputs": [
    {
     "name": "stdout",
     "output_type": "stream",
     "text": [
      "i: 0\n",
      "0\n",
      "i: 1\n",
      "1\n",
      "i: 2\n",
      "4\n",
      "i: 3\n",
      "9\n",
      "i: 4\n",
      "16\n"
     ]
    }
   ],
   "source": [
    "def squaerd(n):\n",
    "    for i in range(n + 1):\n",
    "        print(\"i: {}\".format(i))\n",
    "        yield i**2\n",
    "for x in squaerd(4):\n",
    "    print(x)\n",
    "        "
   ]
  },
  {
   "cell_type": "markdown",
   "metadata": {},
   "source": [
    "# Decorators"
   ]
  },
  {
   "cell_type": "code",
   "execution_count": 29,
   "metadata": {},
   "outputs": [
    {
     "name": "stdout",
     "output_type": "stream",
     "text": [
      "======\n",
      "Jhon!\n",
      "======\n",
      "======\n",
      "Smith!\n",
      "======\n",
      "======\n",
      "Jhon!\n",
      "======\n"
     ]
    }
   ],
   "source": [
    "def decorator(func):\n",
    "    def wrap():\n",
    "        print(\"======\")\n",
    "        func()\n",
    "        print(\"======\")\n",
    "    return wrap\n",
    "@decorator\n",
    "def printName():\n",
    "    print(\"Jhon!\")\n",
    "printName()\n",
    "def printLastName():\n",
    "    print(\"Smith!\")\n",
    "printLastName()"
   ]
  },
  {
   "cell_type": "code",
   "execution_count": 35,
   "metadata": {},
   "outputs": [
    {
     "name": "stdout",
     "output_type": "stream",
     "text": [
      "Hello!\n",
      "Hello!\n",
      "Hello!\n",
      "Hello!\n"
     ]
    }
   ],
   "source": [
    "def run_times(num):\n",
    "    def wrap(func):\n",
    "        for i in range(4):\n",
    "            func()\n",
    "    return wrap\n",
    "@run_times(4)\n",
    "def sayHello():\n",
    "    print(\"Hello!\")"
   ]
  },
  {
   "cell_type": "code",
   "execution_count": 36,
   "metadata": {},
   "outputs": [
    {
     "name": "stdout",
     "output_type": "stream",
     "text": [
      "Happy birthday Paul, you are now 44.\n"
     ]
    }
   ],
   "source": [
    "def birthday(func):\n",
    "    def wrap(name, age):\n",
    "        func(name, age + 1)\n",
    "    return wrap\n",
    "@birthday\n",
    "def celebrate(name, age):\n",
    "    print(\"Happy birthday {}, you are now {}.\".format(name, age))\n",
    "celebrate(\"Paul\", 43)"
   ]
  },
  {
   "cell_type": "code",
   "execution_count": 39,
   "metadata": {},
   "outputs": [
    {
     "name": "stdout",
     "output_type": "stream",
     "text": [
      "What is the password?ilywpf\n",
      "Access granted, welcom Jess\n"
     ]
    }
   ],
   "source": [
    "def logon_required(func):\n",
    "    def wrap(user):\n",
    "        password = input(\"What is the password?\")\n",
    "        if password == user[\"password\"]:\n",
    "            func(user)\n",
    "        else:\n",
    "            print(\"Access Denied\")\n",
    "    return wrap\n",
    "@logon_required\n",
    "def restrictedFunc(user):\n",
    "    print(\"Access granted, welcome {}\".format(user[\"name\"]))\n",
    "user = {\"name\":\"Jess\", \"password\":\"ilywpf\"}\n",
    "restrictedFunc(user)"
   ]
  },
  {
   "cell_type": "code",
   "execution_count": 41,
   "metadata": {},
   "outputs": [],
   "source": [
    "def checkNumber(func):\n",
    "    def wrap(num):\n",
    "        if num < 100:\n",
    "            func(num)\n",
    "    return wrap\n",
    "@checkNumber\n",
    "def numbers(func):\n",
    "    print(\"Less than 100\")\n",
    "numbers(99)"
   ]
  },
  {
   "cell_type": "code",
   "execution_count": 45,
   "metadata": {},
   "outputs": [
    {
     "name": "stdout",
     "output_type": "stream",
     "text": [
      "/index\n",
      "This is how web pages are made in Flask\n"
     ]
    }
   ],
   "source": [
    "def route(url):\n",
    "    def wrap(func):\n",
    "        print(url)\n",
    "        func()\n",
    "    return wrap\n",
    "@route(\"/index\")\n",
    "def index():\n",
    "    print(\"This is how web pages are made in Flask\")"
   ]
  },
  {
   "cell_type": "markdown",
   "metadata": {},
   "source": [
    "# Modules"
   ]
  },
  {
   "cell_type": "code",
   "execution_count": 46,
   "metadata": {},
   "outputs": [
    {
     "name": "stdout",
     "output_type": "stream",
     "text": [
      "2\n",
      "3\n",
      "3.141592653589793\n"
     ]
    }
   ],
   "source": [
    "import math\n",
    "print(math.floor(2.5))\n",
    "print(math.ceil(2.5))\n",
    "print(math.pi)"
   ]
  },
  {
   "cell_type": "code",
   "execution_count": 4,
   "metadata": {},
   "outputs": [
    {
     "name": "stdout",
     "output_type": "stream",
     "text": [
      "2\n"
     ]
    },
    {
     "ename": "NameError",
     "evalue": "name 'ceil' is not defined",
     "output_type": "error",
     "traceback": [
      "\u001b[1;31m---------------------------------------------------------------------------\u001b[0m",
      "\u001b[1;31mNameError\u001b[0m                                 Traceback (most recent call last)",
      "\u001b[1;32m<ipython-input-4-84eae8808afd>\u001b[0m in \u001b[0;36m<module>\u001b[1;34m\u001b[0m\n\u001b[0;32m      1\u001b[0m \u001b[1;32mfrom\u001b[0m \u001b[0mmath\u001b[0m \u001b[1;32mimport\u001b[0m \u001b[0mfloor\u001b[0m\u001b[1;33m,\u001b[0m \u001b[0mpi\u001b[0m\u001b[1;33m\u001b[0m\u001b[1;33m\u001b[0m\u001b[0m\n\u001b[0;32m      2\u001b[0m \u001b[0mprint\u001b[0m\u001b[1;33m(\u001b[0m\u001b[0mfloor\u001b[0m\u001b[1;33m(\u001b[0m\u001b[1;36m2.5\u001b[0m\u001b[1;33m)\u001b[0m\u001b[1;33m)\u001b[0m\u001b[1;33m\u001b[0m\u001b[1;33m\u001b[0m\u001b[0m\n\u001b[1;32m----> 3\u001b[1;33m \u001b[0mprint\u001b[0m\u001b[1;33m(\u001b[0m\u001b[0mceil\u001b[0m\u001b[1;33m(\u001b[0m\u001b[1;36m2.5\u001b[0m\u001b[1;33m)\u001b[0m\u001b[1;33m)\u001b[0m\u001b[1;33m\u001b[0m\u001b[1;33m\u001b[0m\u001b[0m\n\u001b[0m\u001b[0;32m      4\u001b[0m \u001b[0mprint\u001b[0m\u001b[1;33m(\u001b[0m\u001b[0mpi\u001b[0m\u001b[1;33m)\u001b[0m\u001b[1;33m\u001b[0m\u001b[1;33m\u001b[0m\u001b[0m\n",
      "\u001b[1;31mNameError\u001b[0m: name 'ceil' is not defined"
     ]
    }
   ],
   "source": [
    "from math import floor, pi\n",
    "print(floor(2.5))\n",
    "print(ceil(2.5))\n",
    "print(pi)"
   ]
  },
  {
   "cell_type": "code",
   "execution_count": 1,
   "metadata": {},
   "outputs": [
    {
     "name": "stdout",
     "output_type": "stream",
     "text": [
      "2\n"
     ]
    }
   ],
   "source": [
    "from math import floor as f\n",
    "print(f(2.5))"
   ]
  },
  {
   "cell_type": "code",
   "execution_count": 4,
   "metadata": {},
   "outputs": [
    {
     "name": "stdout",
     "output_type": "stream",
     "text": [
      "Module is loaded.\n",
      "5 10\n",
      "Jhon Smith is 37 years old.\n"
     ]
    }
   ],
   "source": [
    "%run test.py\n",
    "print(length, width)\n",
    "printInfo(\"Jhon Smith\", 37)"
   ]
  },
  {
   "cell_type": "code",
   "execution_count": 5,
   "metadata": {},
   "outputs": [
    {
     "name": "stdout",
     "output_type": "stream",
     "text": [
      "It has been 5 seconds since the script started\n"
     ]
    }
   ],
   "source": [
    "from time import sleep\n",
    "sleep(5)\n",
    "print(\"It has been 5 seconds since the script started\")"
   ]
  },
  {
   "cell_type": "code",
   "execution_count": 6,
   "metadata": {},
   "outputs": [
    {
     "name": "stdout",
     "output_type": "stream",
     "text": [
      "450\n"
     ]
    }
   ],
   "source": [
    "%run calculation.py\n",
    "print(calcArea(15, 30))"
   ]
  },
  {
   "cell_type": "markdown",
   "metadata": {},
   "source": [
    "# Understanding Algorithmic Complexity"
   ]
  },
  {
   "cell_type": "code",
   "execution_count": 3,
   "metadata": {},
   "outputs": [
    {
     "name": "stdout",
     "output_type": "stream",
     "text": [
      "-5736258329680540896 355100244900972763 2428153212912662713\n",
      "-5736258329680540896 -5736258329680540896 2428153212912662713\n"
     ]
    }
   ],
   "source": [
    "a, c, b = \"bo\", \"bob\", \"bobo\"\n",
    "print(hash(a), hash(b), hash(c))\n",
    "b = a\n",
    "print(hash(a), hash(b), hash(c))"
   ]
  },
  {
   "cell_type": "code",
   "execution_count": 27,
   "metadata": {},
   "outputs": [],
   "source": [
    "import time\n",
    "d = {}\n",
    "for i in range(10000000):\n",
    "    d[i] = \"value\"\n",
    "big_list=[x for x in range(10000000)]"
   ]
  },
  {
   "cell_type": "code",
   "execution_count": 28,
   "metadata": {},
   "outputs": [
    {
     "name": "stdout",
     "output_type": "stream",
     "text": [
      "start_time: 1595286190.7720919\n",
      "Found in dictionary\n",
      "last_time: 1595286190.7730927\n",
      "end_time: 0.0010008811950683594\n",
      "Elapsed time for dictionary: 0.0010008811950683594\n",
      "Found in dictionary\n",
      "Elapsed time for list: 0.07907247543334961\n"
     ]
    }
   ],
   "source": [
    "start_time = time.time()\n",
    "print(\"start_time: {}\".format(start_time))\n",
    "if 9999999 in d:\n",
    "    print(\"Found in dictionary\")\n",
    "last_time = time.time()\n",
    "print(\"last_time: {}\".format(last_time))\n",
    "end_time = last_time - start_time\n",
    "print(\"end_time: {}\".format(end_time))\n",
    "print(\"Elapsed time for dictionary: {}\".format(end_time))\n",
    "start_time = time.time()\n",
    "if 9999999 in big_list:\n",
    "    print(\"Found in dictionary\")\n",
    "end_time = time.time() - start_time\n",
    "print(\"Elapsed time for list: {}\".format(end_time))"
   ]
  },
  {
   "cell_type": "code",
   "execution_count": 8,
   "metadata": {},
   "outputs": [
    {
     "data": {
      "text/plain": [
       "1595285800.1053462"
      ]
     },
     "execution_count": 8,
     "metadata": {},
     "output_type": "execute_result"
    }
   ],
   "source": [
    "time.time()"
   ]
  },
  {
   "cell_type": "code",
   "execution_count": 39,
   "metadata": {},
   "outputs": [
    {
     "name": "stdout",
     "output_type": "stream",
     "text": [
      "[1, 2, 3, 4, 5, 6, 7, 8, 9]\n"
     ]
    }
   ],
   "source": [
    "def bubbleSort(aList):\n",
    "    lastUnsorted = len(aList) - 1\n",
    "    isSorted = False\n",
    "    while not isSorted:                \n",
    "        for j in range (lastUnsorted):\n",
    "            if aList[j] > aList[j + 1]:\n",
    "                aList[j], aList[j + 1] = aList[ j + 1], aList[j]\n",
    "                isSorted = False\n",
    "            else:\n",
    "                isSorted = True\n",
    "        lastUnsorted -= 1\n",
    "    return aList\n",
    "print(bubbleSort([8, 5, 2, 7, 1, 9, 6, 4, 3]))"
   ]
  },
  {
   "cell_type": "code",
   "execution_count": 7,
   "metadata": {},
   "outputs": [
    {
     "name": "stdout",
     "output_type": "stream",
     "text": [
      "Elapsed time for Bubble Sort: 3.3970894813537598\n",
      "Elapsed time for Insertion Sort: 0.001001119613647461\n",
      "Elapsed time for Merge Sort: 0.12911701202392578\n"
     ]
    }
   ],
   "source": [
    "def bubbleSort(aList):\n",
    "    for i in range(len(aList)):\n",
    "        switched = False \n",
    "        for j in range(len(aList) - 1):\n",
    "            if aList[j] > aList[j + 1]:\n",
    "                aList[j], aList[j + 1] = aList[ j + 1], aList[j]\n",
    "                switched = True\n",
    "        if switched == False:\n",
    "            break\n",
    "    return aList\n",
    "\n",
    "def insertionSort(aList):\n",
    "    for i in range(1, len(aList)):\n",
    "        #print(\"i: {}\".format(i))\n",
    "        if aList[i] < aList[i - 1]:\n",
    "            for j in range(i, 0, -1):\n",
    "                #print(\"j: {}\".format(j))\n",
    "                if aList[j] < aList[j - 1]:\n",
    "                    aList[j], aList[j - 1] = aList[j - 1], aList[j]\n",
    "                else:\n",
    "                    break\n",
    "        #print(\"\\n\")\n",
    "    return aList\n",
    "\n",
    "def mergeArray(aList):\n",
    "    #print(\"aList: {}\\n\".format(aList))\n",
    "    if not isinstance(aList[0], list):\n",
    "        bList = []\n",
    "        for x in aList:\n",
    "            bList.append([x])\n",
    "        aList = bList\n",
    "\n",
    "    newList = [] \n",
    "    lastElem = 0\n",
    "    \n",
    "    \n",
    "    for i in range(0, len(aList), 2):\n",
    "        \n",
    "        newList.append([])\n",
    "\n",
    "        #if there is no rigth element\n",
    "        if not (len(aList) / 2).is_integer() and i + 1 == len(aList):\n",
    "            newList[lastElem] = aList[i]\n",
    "            break\n",
    "            \n",
    "        elCompleted = False\n",
    "        lenLeftSide = len(aList[i]) \n",
    "        iLeftSide = 0\n",
    "        lenRightSide = len(aList[i + 1])\n",
    "\n",
    "        if i + 1 < len(aList) :        \n",
    "            LengthOfTwo = lenLeftSide +  len(aList[i + 1])\n",
    "        else:\n",
    "            LengthOfTwo = lenLeftSide\n",
    "\n",
    "        while not elCompleted:\n",
    "\n",
    "            iRightElem = 0\n",
    "\n",
    "            while iRightElem < lenRightSide:\n",
    "\n",
    "                if isinstance(aList[i + 1][iRightElem], int):\n",
    "\n",
    "                    if aList[i][iLeftSide] > aList[i + 1][iRightElem] or aList[i][iLeftSide] == aList[i + 1][iRightElem]:\n",
    "                        \n",
    "                        newList[lastElem].append(aList[i + 1][iRightElem])\n",
    "                        aList[i + 1][iRightElem] = []\n",
    "                        iRightElem += 1\n",
    "                        \n",
    "                        if not isinstance(aList[i + 1][lenRightSide - 1], int):\n",
    "                            newList[lastElem].append(aList[i][iLeftSide])\n",
    "                            aList[i][iLeftSide] = []\n",
    "\n",
    "                    elif aList[i][iLeftSide] < aList[i + 1][iRightElem]: \n",
    "                        \n",
    "                        newList[lastElem].append(aList[i][iLeftSide])\n",
    "                        aList[i][iLeftSide] = []\n",
    "                        iLeftSide += 1\n",
    "                        iRightElem = 0\n",
    "                    \n",
    "                    if iLeftSide == lenLeftSide:\n",
    "                        for n in range(lenRightSide):\n",
    "                            if isinstance(aList[i + 1][n], int):                         \n",
    "                                newList[lastElem].append(aList[i + 1][n])\n",
    "                                aList[i + 1][n] = []\n",
    "                                \n",
    "                elif not isinstance(aList[i][iLeftSide], int) and not isinstance(aList[i + 1][iRightElem], int):\n",
    "\n",
    "                    iLeftSide += 1\n",
    "                    \n",
    "                else:\n",
    "\n",
    "                    if iRightElem + 1 == lenRightSide and isinstance(aList[i][iLeftSide], int):\n",
    "                        newList[lastElem].append(aList[i][iLeftSide])\n",
    "                        aList[i][iLeftSide] = []\n",
    "                        iLeftSide += 1\n",
    "\n",
    "                    iRightElem += 1\n",
    "\n",
    "                if len(newList[lastElem]) == LengthOfTwo:\n",
    "\n",
    "                    elCompleted = True\n",
    "                    lastElem += 1\n",
    "                    break\n",
    "\n",
    "    if len(newList) > 1:\n",
    "        return mergeArray(newList)\n",
    "    else:\n",
    "        return newList[0]\n",
    "\n",
    "#print(insertionSort([8, 5, 2, 7, 1, 9, 6, 4, 3]))\n",
    "\n",
    "from random import randint\n",
    "import time\n",
    "\n",
    "nums = [randint(0, 100) for x in range(5000)]\n",
    "\n",
    "start_time = time.time()\n",
    "bubbleSort(nums)\n",
    "end_time = time.time() - start_time\n",
    "print(\"Elapsed time for Bubble Sort: {}\".format(end_time))\n",
    "\n",
    "start_time = time.time()\n",
    "#print(\"start: {}\".format(start_time))\n",
    "insertionSort(nums)\n",
    "end_time = time.time() - start_time\n",
    "#print(\"end: {}\".format(end_time))\n",
    "print(\"Elapsed time for Insertion Sort: {}\".format(end_time))\n",
    "\n",
    "start_time = time.time()\n",
    "#print(\"start: {}\".format(start_time))\n",
    "mergeArray(nums)\n",
    "end_time = time.time() - start_time\n",
    "#print(\"end: {}\".format(end_time))\n",
    "print(\"Elapsed time for Merge Sort: {}\".format(end_time))"
   ]
  },
  {
   "cell_type": "code",
   "execution_count": 5,
   "metadata": {},
   "outputs": [
    {
     "name": "stdout",
     "output_type": "stream",
     "text": [
      "Elapsed time for Insertion Sort: 1.638481855392456\n"
     ]
    }
   ],
   "source": [
    "def insertionSort(aList):\n",
    "    #print(\"aList: {}\".format(aList))\n",
    "    for i in range(1, len(aList)):\n",
    "        #print(\"I: {}\\n\".format(i))\n",
    "        if aList[i] < aList[i - 1]:\n",
    "            for j in range(i, 0, -1):\n",
    "                #print(\"J: {}\".format(j))\n",
    "                if aList[j] < aList[j - 1]:\n",
    "                    aList[j], aList[j - 1] = aList[j - 1], aList[j]\n",
    "                    #print(\"aList: {}\".format(aList))\n",
    "                else:\n",
    "                    #print(\"aList: {}\".format(aList))\n",
    "                    break\n",
    "        #print(\"aList: {}\".format(aList))\n",
    "        #print(\"-\"*10)\n",
    "    return aList\n",
    "\n",
    "nums = [randint(0, 100) for x in range(5000)]\n",
    "\n",
    "start_time = time.time()\n",
    "insertionSort(nums)\n",
    "end_time = time.time() - start_time\n",
    "print(\"Elapsed time for Insertion Sort: {}\".format(end_time))"
   ]
  },
  {
   "cell_type": "code",
   "execution_count": 8,
   "metadata": {},
   "outputs": [],
   "source": [
    "def insertionSort(aList):\n",
    "    for i in range(1, len(aList)):\n",
    "        print(\"i: {}\".format(i))\n",
    "        if aList[i] < aList[i - 1]:\n",
    "            for j in range(i, 0, -1):\n",
    "                print(\"j: {}\".format(j))\n",
    "                if aList[j] < aList[j - 1]:\n",
    "                    aList[j], aList[j - 1] = aList[j - 1], aList[j]\n",
    "                else:\n",
    "                    break\n",
    "        print(\"\\n\")\n",
    "    return aList\n",
    "\n",
    "start_time = time.time()\n",
    "#insertionSort(nums)\n",
    "end_time = time.time() - start_time\n",
    "#print(\"Elapsed time for Insertion Sort: {}\".format(end_time))"
   ]
  },
  {
   "cell_type": "markdown",
   "metadata": {},
   "source": [
    "# Merge Sort"
   ]
  },
  {
   "cell_type": "code",
   "execution_count": 9,
   "metadata": {},
   "outputs": [
    {
     "name": "stdout",
     "output_type": "stream",
     "text": [
      "Elapsed time for Merge Sort: 3.4773924350738525\n"
     ]
    }
   ],
   "source": [
    "from random import shuffle, randint\n",
    "import time\n",
    "\n",
    "\n",
    "def mergeArray(aList):\n",
    "    #print(\"aList: {}\\n\".format(aList))\n",
    "    if not isinstance(aList[0], list):\n",
    "        bList = []\n",
    "        for x in aList:\n",
    "            bList.append([x])\n",
    "        aList = bList\n",
    "\n",
    "    newList = [] \n",
    "    lastElem = 0\n",
    "    \n",
    "    \n",
    "    for i in range(0, len(aList), 2):\n",
    "        \n",
    "        newList.append([])\n",
    "\n",
    "        #if there is no rigth element\n",
    "        if not (len(aList) / 2).is_integer() and i + 1 == len(aList):\n",
    "            newList[lastElem] = aList[i]\n",
    "            break\n",
    "            \n",
    "        elCompleted = False\n",
    "        lenLeftSide = len(aList[i]) \n",
    "        iLeftSide = 0\n",
    "        lenRightSide = len(aList[i + 1])\n",
    "\n",
    "        if i + 1 < len(aList) :        \n",
    "            LengthOfTwo = lenLeftSide +  len(aList[i + 1])\n",
    "        else:\n",
    "            LengthOfTwo = lenLeftSide\n",
    "\n",
    "        while not elCompleted:\n",
    "\n",
    "            iRightElem = 0\n",
    "\n",
    "            while iRightElem < lenRightSide:\n",
    "\n",
    "                if isinstance(aList[i + 1][iRightElem], int):\n",
    "\n",
    "                    if aList[i][iLeftSide] > aList[i + 1][iRightElem] or aList[i][iLeftSide] == aList[i + 1][iRightElem]:\n",
    "                        \n",
    "                        newList[lastElem].append(aList[i + 1][iRightElem])\n",
    "                        aList[i + 1][iRightElem] = []\n",
    "                        iRightElem += 1\n",
    "                        \n",
    "                        if not isinstance(aList[i + 1][lenRightSide - 1], int):\n",
    "                            newList[lastElem].append(aList[i][iLeftSide])\n",
    "                            aList[i][iLeftSide] = []\n",
    "\n",
    "                    elif aList[i][iLeftSide] < aList[i + 1][iRightElem]: \n",
    "                        \n",
    "                        newList[lastElem].append(aList[i][iLeftSide])\n",
    "                        aList[i][iLeftSide] = []\n",
    "                        iLeftSide += 1\n",
    "                        iRightElem = 0\n",
    "                    \n",
    "                    if iLeftSide == lenLeftSide:\n",
    "                        for n in range(lenRightSide):\n",
    "                            if isinstance(aList[i + 1][n], int):                         \n",
    "                                newList[lastElem].append(aList[i + 1][n])\n",
    "                                aList[i + 1][n] = []\n",
    "                                \n",
    "                elif not isinstance(aList[i][iLeftSide], int) and not isinstance(aList[i + 1][iRightElem], int):\n",
    "\n",
    "                    iLeftSide += 1\n",
    "                    \n",
    "                else:\n",
    "\n",
    "                    if iRightElem + 1 == lenRightSide and isinstance(aList[i][iLeftSide], int):\n",
    "                        newList[lastElem].append(aList[i][iLeftSide])\n",
    "                        aList[i][iLeftSide] = []\n",
    "                        iLeftSide += 1\n",
    "\n",
    "                    iRightElem += 1\n",
    "\n",
    "                if len(newList[lastElem]) == LengthOfTwo:\n",
    "\n",
    "                    elCompleted = True\n",
    "                    lastElem += 1\n",
    "                    break\n",
    "\n",
    "    if len(newList) > 1:\n",
    "        return mergeArray(newList)\n",
    "    else:\n",
    "        return newList[0]\n",
    "#x = mergeArray([38, 27, 1])    \n",
    "#x = mergeArray([[27, 38], [3, 43], [9, 82], [33, 92]])\n",
    "#x = mergeArray([38, 27, 43, 3, 9, 82, 33, 92])\n",
    "#x = mergeArray([38, 27, 43, 3, 9, 2, 82, 33, 92, 65, 45, 62, 96, 1, 5])\n",
    "#print(x)\n",
    "\n",
    "nums = [randint(0, 100) for x in range(5000)]\n",
    "nums1 = [x for x in range(5000)]\n",
    "shuffle(nums)\n",
    "#print(nums)\n",
    "\n",
    "start_time = time.time()\n",
    "mergeArray(nums)\n",
    "end_time = time.time() - start_time\n",
    "print(\"Elapsed time for Merge Sort: {}\".format(end_time))"
   ]
  },
  {
   "cell_type": "code",
   "execution_count": 3,
   "metadata": {},
   "outputs": [
    {
     "name": "stdout",
     "output_type": "stream",
     "text": [
      "Your cart is empty.\n"
     ]
    }
   ],
   "source": [
    "%run shopping_cart.py\n",
    "cart = ShoppingCart()\n",
    "cart.main()"
   ]
  },
  {
   "cell_type": "code",
   "execution_count": null,
   "metadata": {},
   "outputs": [],
   "source": []
  }
 ],
 "metadata": {
  "kernelspec": {
   "display_name": "Python 3",
   "language": "python",
   "name": "python3"
  },
  "language_info": {
   "codemirror_mode": {
    "name": "ipython",
    "version": 3
   },
   "file_extension": ".py",
   "mimetype": "text/x-python",
   "name": "python",
   "nbconvert_exporter": "python",
   "pygments_lexer": "ipython3",
   "version": "3.7.6"
  }
 },
 "nbformat": 4,
 "nbformat_minor": 4
}
