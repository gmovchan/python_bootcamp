{
 "cells": [
  {
   "cell_type": "markdown",
   "metadata": {},
   "source": [
    "# Dictionaries"
   ]
  },
  {
   "cell_type": "code",
   "execution_count": 1,
   "metadata": {},
   "outputs": [
    {
     "name": "stdout",
     "output_type": "stream",
     "text": [
      "{'name': 'Morty', 'age': 26}\n"
     ]
    }
   ],
   "source": [
    "empty = {}\n",
    "person = {\"name\": \"John Smith\"}\n",
    "customer = {\n",
    "    \"name\": \"Morty\",\n",
    "    \"age\": 26\n",
    "}\n",
    "print(customer)"
   ]
  },
  {
   "cell_type": "code",
   "execution_count": 2,
   "metadata": {},
   "outputs": [
    {
     "name": "stdout",
     "output_type": "stream",
     "text": [
      "John Smith\n"
     ]
    }
   ],
   "source": [
    "print(person[\"name\"])"
   ]
  },
  {
   "cell_type": "code",
   "execution_count": 3,
   "metadata": {},
   "outputs": [
    {
     "name": "stdout",
     "output_type": "stream",
     "text": [
      "John\n",
      "Age is not available.\n"
     ]
    }
   ],
   "source": [
    "person = {\"name\": 'John'}\n",
    "print(person.get(\"name\"))\n",
    "print(person.get(\"age\", \"Age is not available.\"))"
   ]
  },
  {
   "cell_type": "code",
   "execution_count": 4,
   "metadata": {},
   "outputs": [
    {
     "name": "stdout",
     "output_type": "stream",
     "text": [
      "baseball\n"
     ]
    }
   ],
   "source": [
    "data = {\"sports\": [\"baseball\", \"football\", \"hockey\", \"soccer\"]}\n",
    "print(data[\"sports\"][0])"
   ]
  },
  {
   "cell_type": "code",
   "execution_count": 7,
   "metadata": {},
   "outputs": [
    {
     "name": "stdout",
     "output_type": "stream",
     "text": [
      "{'sports': ['baseball', 'football', 'hockey', 'soccer']}\n"
     ]
    }
   ],
   "source": [
    "sports = [\"baseball\", \"football\", \"hockey\", \"soccer\"]\n",
    "sports_dict = dict({\"sports\": sports})\n",
    "print(sports_dict)"
   ]
  },
  {
   "cell_type": "code",
   "execution_count": 9,
   "metadata": {},
   "outputs": [
    {
     "name": "stdout",
     "output_type": "stream",
     "text": [
      "{'name': 'Kristen'}\n",
      "Kristen\n"
     ]
    }
   ],
   "source": [
    "data = [\"John\", \"Dennis\", {\"name\": \"Kristen\"}]\n",
    "print(data[2])\n",
    "print(data[2][\"name\"])"
   ]
  },
  {
   "cell_type": "code",
   "execution_count": 10,
   "metadata": {},
   "outputs": [
    {
     "name": "stdout",
     "output_type": "stream",
     "text": [
      "{'2018': 108, '2017': 93}\n",
      "108\n"
     ]
    }
   ],
   "source": [
    "data = {\n",
    "    \"team\": \"Boston Red Sox\",\n",
    "    \"wins\": {\"2018\": 108, \"2017\": 93}\n",
    "}\n",
    "print(data[\"wins\"])\n",
    "print(data[\"wins\"][\"2018\"])"
   ]
  },
  {
   "cell_type": "code",
   "execution_count": 14,
   "metadata": {},
   "outputs": [
    {
     "name": "stdout",
     "output_type": "stream",
     "text": [
      "Type your name: Gregory\n",
      "Type your age: 29\n",
      "{'name': 'Gregory', 'age': '29'}\n"
     ]
    }
   ],
   "source": [
    "person = {}\n",
    "person[\"name\"] = input(\"Type your name: \")\n",
    "person[\"age\"] = input(\"Type your age: \")\n",
    "print(person)"
   ]
  },
  {
   "cell_type": "code",
   "execution_count": 19,
   "metadata": {},
   "outputs": [
    {
     "name": "stdout",
     "output_type": "stream",
     "text": [
      "['cheese', 'sausage', 'peppers']\n",
      "cheese\n",
      "sausage\n",
      "peppers\n"
     ]
    }
   ],
   "source": [
    "pizza = {\n",
    "    \"ingredients\": [\"cheese\", \"sausage\", \"peppers\"]\n",
    "}\n",
    "\n",
    "print(pizza[\"ingredients\"])\n",
    "\n",
    "for ingredient in pizza[\"ingredients\"]:\n",
    "    print(ingredient)"
   ]
  },
  {
   "cell_type": "markdown",
   "metadata": {},
   "source": [
    "# Working with Dictionaries"
   ]
  },
  {
   "cell_type": "code",
   "execution_count": 20,
   "metadata": {},
   "outputs": [
    {
     "name": "stdout",
     "output_type": "stream",
     "text": [
      "Year: 2018 \t Color: Blue\n"
     ]
    }
   ],
   "source": [
    "car = {\"year\": 2018}\n",
    "car[\"color\"] = \"Blue\"\n",
    "print(\"Year: {} \\t Color: {}\".format(car[\"year\"], car[\"color\"]))"
   ]
  },
  {
   "cell_type": "code",
   "execution_count": 21,
   "metadata": {},
   "outputs": [
    {
     "name": "stdout",
     "output_type": "stream",
     "text": [
      "Year: 2018 \t Color: Red\n"
     ]
    }
   ],
   "source": [
    "car = {\"year\": 2018, \"coloe\": \"Blue\"}\n",
    "car[\"color\"] = \"Red\"\n",
    "print(\"Year: {} \\t Color: {}\".format(car[\"year\"], car[\"color\"]))"
   ]
  },
  {
   "cell_type": "code",
   "execution_count": 24,
   "metadata": {},
   "outputs": [
    {
     "name": "stdout",
     "output_type": "stream",
     "text": [
      "{}\n"
     ]
    }
   ],
   "source": [
    "car = {\"year\": 2018}\n",
    "try:\n",
    "    del car[\"year\"]\n",
    "    print(car)\n",
    "except:\n",
    "    print(\"That key does not exist\")"
   ]
  },
  {
   "cell_type": "code",
   "execution_count": 25,
   "metadata": {},
   "outputs": [
    {
     "name": "stdout",
     "output_type": "stream",
     "text": [
      "name\n",
      "John\n",
      "age\n",
      "26\n"
     ]
    }
   ],
   "source": [
    "person = {\"name\": \"John\", \"age\": 26}\n",
    "for key in person.keys():\n",
    "    print(key)\n",
    "    print(person[key])"
   ]
  },
  {
   "cell_type": "code",
   "execution_count": 26,
   "metadata": {},
   "outputs": [
    {
     "name": "stdout",
     "output_type": "stream",
     "text": [
      "John\n",
      "26\n"
     ]
    }
   ],
   "source": [
    "for value in person.values():\n",
    "    print(value)"
   ]
  },
  {
   "cell_type": "code",
   "execution_count": 28,
   "metadata": {},
   "outputs": [
    {
     "name": "stdout",
     "output_type": "stream",
     "text": [
      "name: John\n",
      "age: 26\n"
     ]
    }
   ],
   "source": [
    "for key, value in person.items():\n",
    "    print(\"{}: {}\".format(key, value))"
   ]
  },
  {
   "cell_type": "code",
   "execution_count": 29,
   "metadata": {},
   "outputs": [
    {
     "name": "stdout",
     "output_type": "stream",
     "text": [
      "Type your name: Gregory\n",
      "Type your address: Krasnodar\n",
      "Type your number: 5\n",
      "Your name: Gregory\n",
      "Your address: Krasnodar\n",
      "Your number: 5\n"
     ]
    }
   ],
   "source": [
    "user = {}\n",
    "user[\"name\"] = input(\"Type your name: \")\n",
    "user[\"address\"] = input(\"Type your address: \")\n",
    "user[\"number\"] = input(\"Type your number: \")\n",
    "\n",
    "for key, value in user.items():\n",
    "    print(\"Your {}: {}\".format(key, value))"
   ]
  },
  {
   "cell_type": "code",
   "execution_count": 30,
   "metadata": {},
   "outputs": [
    {
     "name": "stdout",
     "output_type": "stream",
     "text": [
      "{'name': 'John Smith'}\n"
     ]
    }
   ],
   "source": [
    "person = {'name': 'John Smith'}\n",
    "print(person)"
   ]
  },
  {
   "cell_type": "markdown",
   "metadata": {},
   "source": [
    "# Tuples, Sets, Frozensets"
   ]
  },
  {
   "cell_type": "code",
   "execution_count": 34,
   "metadata": {},
   "outputs": [
    {
     "name": "stdout",
     "output_type": "stream",
     "text": [
      "<class 'tuple'> <class 'tuple'>\n",
      "('Hello', 2, 'hello') (True, 1)\n"
     ]
    }
   ],
   "source": [
    "t1 = (\"Hello\", 2, \"hello\")\n",
    "t2 = True, 1\n",
    "print(type(t1), type(t2))\n",
    "print(t1, t2)"
   ]
  },
  {
   "cell_type": "code",
   "execution_count": 37,
   "metadata": {},
   "outputs": [
    {
     "name": "stdout",
     "output_type": "stream",
     "text": [
      "{'apple', 1, 2, 3}\n",
      "{2, 3, 5, 'apple'}\n"
     ]
    }
   ],
   "source": [
    "s1 = set([1, 2, 3, 1, \"apple\", \"apple\"])\n",
    "print(s1)\n",
    "s2 = {4,4,5}\n",
    "s1.add(5)\n",
    "s1.remove(1)\n",
    "print(s1)"
   ]
  },
  {
   "cell_type": "code",
   "execution_count": null,
   "metadata": {},
   "outputs": [],
   "source": [
    "fset = frozenset([1, 2, 3, 4, 4])\n",
    "print(fset)"
   ]
  },
  {
   "cell_type": "code",
   "execution_count": 6,
   "metadata": {},
   "outputs": [
    {
     "name": "stdout",
     "output_type": "stream",
     "text": [
      "1234\n",
      "123345\n",
      "12314\n"
     ]
    }
   ],
   "source": [
    "from IPython.display import clear_output\n",
    "\n",
    "accounts = []\n",
    "quit = False\n",
    "\n",
    "while not quit:    \n",
    "    ans = input(\"Type bank account numbers or quit: \".lower())    \n",
    "    clear_output()    \n",
    "    if ans == \"quit\":\n",
    "        fAccounts = frozenset(accounts)\n",
    "        quit = True\n",
    "    else:\n",
    "        accounts.append(ans)\n",
    "    \n",
    "    \n",
    "\n",
    "for account in fAccounts:\n",
    "    print(account)"
   ]
  },
  {
   "cell_type": "code",
   "execution_count": 7,
   "metadata": {},
   "outputs": [
    {
     "name": "stdout",
     "output_type": "stream",
     "text": [
      "{10, 3, 4, 7}\n"
     ]
    }
   ],
   "source": [
    "nums = [3, 4, 3, 7, 10]\n",
    "numsSet = set(nums)\n",
    "print(numsSet)"
   ]
  },
  {
   "cell_type": "markdown",
   "metadata": {},
   "source": [
    "# Reading & Writing Files."
   ]
  },
  {
   "cell_type": "code",
   "execution_count": 8,
   "metadata": {},
   "outputs": [
    {
     "name": "stdout",
     "output_type": "stream",
     "text": [
      "this is a test\n"
     ]
    }
   ],
   "source": [
    "f = open(\"test.txt\", \"w+\")\n",
    "f.write(\"this is a test\")\n",
    "f.close()\n",
    "f = open(\"test.txt\", \"r\")\n",
    "data = f.read()\n",
    "f.close()\n",
    "print(data)"
   ]
  },
  {
   "cell_type": "code",
   "execution_count": 11,
   "metadata": {},
   "outputs": [],
   "source": [
    "import csv\n",
    "with open(\"test.csv\", mode=\"w\", newline=\"\") as f:\n",
    "    writer = csv.writer(f, delimiter=\",\")\n",
    "    writer.writerow([\"Name\", \"City\"])\n",
    "    writer.writerow([\"Craig Lou\", \"Taiwan\"])"
   ]
  },
  {
   "cell_type": "code",
   "execution_count": 12,
   "metadata": {},
   "outputs": [
    {
     "name": "stdout",
     "output_type": "stream",
     "text": [
      "['Name', 'City']\n",
      "['Craig Lou', 'Taiwan']\n"
     ]
    }
   ],
   "source": [
    "with open(\"test.csv\", mode=\"r\") as f:\n",
    "    reader = csv. reader(f, delimiter=\",\")\n",
    "    for row in reader:\n",
    "        print(row)"
   ]
  },
  {
   "cell_type": "code",
   "execution_count": 13,
   "metadata": {},
   "outputs": [
    {
     "name": "stdout",
     "output_type": "stream",
     "text": [
      "Type your favorite number666\n"
     ]
    }
   ],
   "source": [
    "favNum = input(\"Type your favorite number: \")\n",
    "\n",
    "f = open(\"favorite_number.txt\", \"w+\")\n",
    "f.write(favNum)\n",
    "f.close()"
   ]
  },
  {
   "cell_type": "code",
   "execution_count": 27,
   "metadata": {},
   "outputs": [
    {
     "name": "stdout",
     "output_type": "stream",
     "text": [
      "0\n"
     ]
    }
   ],
   "source": [
    "a = []\n",
    "a.append([\"1\"])\n",
    "a[0].append(\"2\")\n",
    "print(a)\n"
   ]
  },
  {
   "cell_type": "code",
   "execution_count": 35,
   "metadata": {},
   "outputs": [
    {
     "name": "stdout",
     "output_type": "stream",
     "text": [
      "['name', 'language']\n",
      "['Dave', 'Python']\n",
      "['Dennis', 'C']\n",
      "['Peter', 'Java']\n",
      "['Jess', 'Python']\n"
     ]
    }
   ],
   "source": [
    "data = {\n",
    "    \"name\": [\"Dave\", \"Dennis\", \"Peter\", \"Jess\"],\n",
    "    \"language\": [\"Python\", \"C\", \"Java\", \"Python\"]\n",
    "}\n",
    "\n",
    "programmersList = []\n",
    "\n",
    "\n",
    "    \n",
    "\n",
    "for key, value in data.items():\n",
    "    \n",
    "    if 0 == len(programmersList):\n",
    "        programmersList.append([key])\n",
    "    else:\n",
    "        programmersList[0].append(key)\n",
    "        \n",
    "    i = 1    \n",
    "    for name in value:\n",
    "        \n",
    "        if i == len(programmersList):\n",
    "            programmersList.append([name])\n",
    "        else:\n",
    "            programmersList[i].append(name)\n",
    "        i += 1\n",
    "        \n",
    "with open(\"programmers.csv\", mode=\"w\", newline=\"\") as programmers:\n",
    "    writer = csv.writer(programmers, delimiter=\",\")\n",
    "    for row in programmersList:\n",
    "        writer.writerow(row)\n",
    "        \n",
    "with open(\"programmers.csv\", mode=\"r\") as programmers:\n",
    "    reader = csv.reader(programmers, delimiter=\",\")\n",
    "    for row in reader:\n",
    "        print(row)\n",
    "\n",
    "#print(programmersList)"
   ]
  },
  {
   "cell_type": "markdown",
   "metadata": {},
   "source": [
    "# Friday Project: Creating a User Database with CSV Filse."
   ]
  },
  {
   "cell_type": "code",
   "execution_count": 10,
   "metadata": {},
   "outputs": [
    {
     "name": "stdout",
     "output_type": "stream",
     "text": [
      "Thank you. The program is over.\n"
     ]
    }
   ],
   "source": [
    "import csv\n",
    "from IPython.display import clear_output\n",
    "\n",
    "def main():\n",
    "    user_logged_in = False\n",
    "    program_over = False\n",
    "    \n",
    "    while not program_over:        \n",
    "        if user_logged_in:\n",
    "            ans = input(\"You are logged in. Type \\\"log out\\\" or \\\"quit\\\"\").lower()\n",
    "            if ans == \"quit\":\n",
    "                program_over = quit()\n",
    "            elif ans == \"log out\":                \n",
    "                user_logged_in = log_out()\n",
    "        else:\n",
    "            ans = input(\"You are not logged in. You may log in/register/quit: \").lower()\n",
    "            if ans == \"log in\":               \n",
    "                user_logged_in = log_in()                \n",
    "            elif ans == \"register\":\n",
    "                result_of_registration = False                \n",
    "                while not result_of_registration:\n",
    "                    result_of_registration = register()                    \n",
    "                \n",
    "            elif ans == \"quit\":\n",
    "                program_over = quit()\n",
    "    \n",
    "def quit():\n",
    "    clear_output()\n",
    "    print(\"Thank you. The program is over.\")\n",
    "    return True\n",
    "\n",
    "def log_in():\n",
    "    \n",
    "    eMail = input(\"Type your e-mail: \").lower()\n",
    "    password = input(\"Type your password: \").lower()\n",
    "\n",
    "    if eMail and password:        \n",
    "        with open(\"users.csv\", mode=\"r\") as f:\n",
    "            reader = csv.reader(f, delimiter=\",\")            \n",
    "            for row in reader:\n",
    "                if row[0] == eMail:\n",
    "                    if row[1] == password:\n",
    "                        return True        \n",
    "    else:\n",
    "        clear_output()\n",
    "        \n",
    "        print(\"The e-mail and/or the password is empty. Try again.\")\n",
    "        return False\n",
    "    \n",
    "    clear_output()\n",
    "    \n",
    "    print(\"User with such an e-mail and/or such a password doesn't exist. Try again.\")\n",
    "    return False\n",
    "\n",
    "def log_out():\n",
    "    clear_output()\n",
    "    return False\n",
    "\n",
    "def register():\n",
    "    eMail = input(\"Type your e-mail: \").lower()\n",
    "    password_1 = input(\"Type a password: \")\n",
    "    password_2 = input(\"Type the same password again: \")\n",
    "    \n",
    "    if eMail and password_1 and password_2 and password_1 == password_2:\n",
    "        \n",
    "        with open(\"users.csv\", mode=\"a\", newline=\"\") as f:\n",
    "            writer = csv.writer(f, delimiter=\",\")\n",
    "            writer.writerow([eMail, password_1])\n",
    "        \n",
    "        clear_output()\n",
    "        \n",
    "        print(\"The new user was created. Now you may log in.\")\n",
    "        return True\n",
    "    else:\n",
    "        \n",
    "        clear_output()\n",
    "        \n",
    "        print(\"Something went wrong. Neither the e-mail not the password can be empty and the passwords must be the same. Try again.\")\n",
    "        return False\n",
    "    \n",
    "main()"
   ]
  },
  {
   "cell_type": "code",
   "execution_count": 8,
   "metadata": {},
   "outputs": [
    {
     "name": "stdout",
     "output_type": "stream",
     "text": [
      "Something went wring, try again.\n"
     ]
    },
    {
     "data": {
      "text/plain": [
       "False"
      ]
     },
     "execution_count": 8,
     "metadata": {},
     "output_type": "execute_result"
    }
   ],
   "source": [
    "\n",
    "import csv\n",
    "from IPython.display import clear_output\n",
    "\n",
    "\n",
    "def registerUser():\n",
    "    with open(\"users.csv\", mode=\"a\", newline=\"\") as f:\n",
    "        writer = csv.writer(f, delimiter=\",\")\n",
    "        \n",
    "        print(\"To register, please enter your info:\")\n",
    "        email = input(\"E-mail: \")\n",
    "        password = input(\"Password: \")\n",
    "        password2 = input(\"Re-type password: \")\n",
    "        \n",
    "        clear_output()        \n",
    "        \n",
    "        if password == password2:\n",
    "            writer.writerow([email, password])\n",
    "            print(\"You are now registered!\")\n",
    "        else:\n",
    "            print(\"Something went wrong. Try again.\")\n",
    "            \n",
    "\n",
    "def loginUser():\n",
    "    print(\"To login, please enter your info:\")\n",
    "    email = input(\"E-mail: \")\n",
    "    password = input(\"Password: \")\n",
    "    \n",
    "    clear_output()\n",
    "    \n",
    "    with open(\"users.csv\", mode=\"r\") as f:\n",
    "            reader = csv.reader(f, delimiter=\",\")\n",
    "            \n",
    "            for row in reader:\n",
    "                if row == [email, password]:\n",
    "                    print(\"You are now logged in!\")\n",
    "                    return True\n",
    "    \n",
    "    print(\"Something went wrong, try again.\")\n",
    "    return False\n",
    "\n",
    "\n",
    "active = True\n",
    "logged_in = False\n",
    "\n",
    "\n",
    "while active:\n",
    "    if logged_in:\n",
    "        print(\"1. Logout\\n2. Quit\")\n",
    "    else:\n",
    "        print(\"1. Login\\n2. Register\\n3. Quit\")\n",
    "    \n",
    "    choice = input(\"What would you like to do? \").lower()\n",
    "    \n",
    "    clear_output()\n",
    "    \n",
    "    if choice == \"register\" and logged_in == False:\n",
    "        registerUser()\n",
    "    elif choice == \"login\" and logged_in == False:\n",
    "        logged_in = loginUser()\n",
    "    elif choice == \"quit\":\n",
    "        active = False\n",
    "        print(\"Thank for using our software!\")\n",
    "    elif choice == \"logout\" and logged_in == True:\n",
    "        logged_in = False\n",
    "        print(\"You are now logged out.\")\n",
    "    else:\n",
    "        print(\"Sorry, please try again!\")\n",
    "            \n",
    "#registerUser()\n",
    "loginUser()"
   ]
  },
  {
   "cell_type": "code",
   "execution_count": 26,
   "metadata": {},
   "outputs": [
    {
     "name": "stdout",
     "output_type": "stream",
     "text": [
      "word[::-1]: madam\n",
      "word[::-1]: emordnilap\n"
     ]
    },
    {
     "data": {
      "text/plain": [
       "False"
      ]
     },
     "execution_count": 26,
     "metadata": {},
     "output_type": "execute_result"
    }
   ],
   "source": [
    "def palindrome(word):\n",
    "    print(\"word[::-1]: {}\".format(word[::-1]))\n",
    "    return True if word == word[::-1] else False\n",
    "palindrome(\"madam\")\n",
    "palindrome(\"palindrome\")"
   ]
  },
  {
   "cell_type": "code",
   "execution_count": 3,
   "metadata": {},
   "outputs": [
    {
     "name": "stdout",
     "output_type": "stream",
     "text": [
      "Thank for using our software!\n"
     ]
    }
   ],
   "source": [
    "import csv\n",
    "from IPython.display import clear_output\n",
    "\n",
    "\n",
    "def registerUser():\n",
    "    with open(\"users.csv\", mode=\"a\", newline=\"\") as f:\n",
    "        writer = csv.writer(f, delimiter=\",\")\n",
    "        \n",
    "        print(\"To register, please enter your info:\")\n",
    "        email = input(\"E-mail: \")\n",
    "        password = input(\"Password: \")\n",
    "        password2 = input(\"Re-type password: \")\n",
    "        \n",
    "        clear_output()        \n",
    "        \n",
    "        if password == password2:\n",
    "            writer.writerow([email, password])\n",
    "            print(\"You are now registered!\")\n",
    "        else:\n",
    "            print(\"Something went wrong. Try again.\")\n",
    "            \n",
    "\n",
    "def loginUser():\n",
    "    print(\"To login, please enter your info:\")\n",
    "    email = input(\"E-mail: \")\n",
    "    password = input(\"Password: \")\n",
    "    \n",
    "    clear_output()\n",
    "    \n",
    "    with open(\"users.csv\", mode=\"r\") as f:\n",
    "            reader = csv.reader(f, delimiter=\",\")\n",
    "            \n",
    "            for row in reader:\n",
    "                if row == [email, password]:\n",
    "                    print(\"You are now logged in!\")\n",
    "                    return True\n",
    "    \n",
    "    print(\"Something went wrong, try again.\")\n",
    "    return False\n",
    "\n",
    "\n",
    "active = True\n",
    "logged_in = False\n",
    "\n",
    "def changePassword():\n",
    "    password_changed = False\n",
    "    \n",
    "    email = input(\"Your e-mail: \")\n",
    "    old_password = input(\"Old password: \")\n",
    "    new_password = input(\"Type a new password to change the old one: \")\n",
    "    \n",
    "    with open(\"users.csv\", mode=\"r\", newline=\"\") as inf:\n",
    "        reader = csv.reader(inf, delimiter=\",\")\n",
    "        users = list(reader)\n",
    "\n",
    "    i = 0\n",
    "    for row in users:    \n",
    "        if row == [email, old_password]:\n",
    "            users[i] = [email, new_password]\n",
    "            password_changed = True\n",
    "            break\n",
    "        i += 1    \n",
    "    \n",
    "    if password_changed:\n",
    "        with open(\"users.csv\", mode=\"w\", newline=\"\") as f:\n",
    "            writer = csv.writer(f, delimiter=\",\")\n",
    "            writer.writerows(users)\n",
    "        print(\"Password has been successfully changed.\")\n",
    "    else:\n",
    "        print(\"The password or/and the e-mail you typed wasn't found.\")\n",
    "\n",
    "\n",
    "while active:\n",
    "    if logged_in:\n",
    "        print(\"1. Logout\\n2. Change\\n3. Quit\")\n",
    "    else:\n",
    "        print(\"1. Login\\n2. Register\\n3. Quit\")\n",
    "    \n",
    "    choice = input(\"What would you like to do? \").lower()\n",
    "    \n",
    "    clear_output()\n",
    "    \n",
    "    if choice == \"register\" and logged_in == False:\n",
    "        registerUser()\n",
    "    elif choice == \"login\" and logged_in == False:\n",
    "        logged_in = loginUser()\n",
    "    elif choice == \"quit\":\n",
    "        active = False\n",
    "        print(\"Thank for using our software!\")\n",
    "    elif choice == \"logout\" and logged_in == True:\n",
    "        logged_in = False\n",
    "        print(\"You are now logged out.\")\n",
    "    elif choice == \"change\" and logged_in == True:\n",
    "        changePassword()\n",
    "    else:\n",
    "        print(\"Sorry, please try again!\")\n",
    "            \n",
    "#registerUser()\n",
    "#loginUser()"
   ]
  },
  {
   "cell_type": "code",
   "execution_count": 23,
   "metadata": {},
   "outputs": [
    {
     "name": "stdout",
     "output_type": "stream",
     "text": [
      "____________________________\n",
      "Favorite Food?\t\\# of Votes\n",
      "____________________________\n",
      "Turkey\t\t3\n",
      "Salad\t\t1\n",
      "Fish\t\t4\n",
      "Pie\t\t1\n",
      "____________________________\n"
     ]
    }
   ],
   "source": [
    "import csv\n",
    "from IPython.display import clear_output\n",
    "\n",
    "def addFood():\n",
    "    food = input(\"What is your favorite food?: \").title()\n",
    "    try:\n",
    "        with open(\"favorite_food.csv\", mode=\"x\") as f:\n",
    "            pass\n",
    "    except:\n",
    "        pass\n",
    "    with open(\"favorite_food.csv\", mode=\"r\") as f:\n",
    "        reader = csv.reader(f, delimiter=\",\")\n",
    "        favorite_food = list(reader)    \n",
    "    new_food = True\n",
    "    for row in favorite_food:\n",
    "        if food in row:\n",
    "            row[1] = int(row[1]) + 1\n",
    "            new_food = False\n",
    "    \n",
    "    if new_food:\n",
    "        favorite_food.append([food, 1])\n",
    "            \n",
    "    with open(\"favorite_food.csv\", mode=\"w\", newline=\"\") as f:\n",
    "        writer = csv.writer(f, delimiter=\",\")\n",
    "        writer.writerows(favorite_food)\n",
    "        \n",
    "    print(\"Your answer has been successfully taken into account.\")\n",
    "    \n",
    "def showResult():\n",
    "    clear_output()\n",
    "    border = \"_\" * 28\n",
    "    print(border)\n",
    "    print(\"Favorite Food?\\t\\# of Votes\")\n",
    "    print(border)\n",
    "    with open(\"favorite_food.csv\", mode=\"r\") as f:\n",
    "        reader = csv.reader(f, delimiter=\",\")\n",
    "        for row in reader:\n",
    "            print(\"{}\\t\\t{}\".format(row[0], row[1]))\n",
    "    print(border)\n",
    "    \n",
    "def main():\n",
    "    addFood()\n",
    "    showResult()\n",
    "    \n",
    "main()"
   ]
  },
  {
   "cell_type": "code",
   "execution_count": 24,
   "metadata": {},
   "outputs": [
    {
     "name": "stdout",
     "output_type": "stream",
     "text": [
      "<class 'dict'>\n"
     ]
    }
   ],
   "source": [
    "values = {4:4, 8:8, \"Q\":10, \"ACE\":11}\n",
    "print(type(values))"
   ]
  },
  {
   "cell_type": "code",
   "execution_count": 25,
   "metadata": {},
   "outputs": [
    {
     "name": "stdout",
     "output_type": "stream",
     "text": [
      "<class 'tuple'>\n"
     ]
    }
   ],
   "source": [
    "card = (\"Q\", \"Hearts\")\n",
    "print(type(card))"
   ]
  },
  {
   "cell_type": "code",
   "execution_count": null,
   "metadata": {},
   "outputs": [],
   "source": []
  }
 ],
 "metadata": {
  "kernelspec": {
   "display_name": "Python 3",
   "language": "python",
   "name": "python3"
  },
  "language_info": {
   "codemirror_mode": {
    "name": "ipython",
    "version": 3
   },
   "file_extension": ".py",
   "mimetype": "text/x-python",
   "name": "python",
   "nbconvert_exporter": "python",
   "pygments_lexer": "ipython3",
   "version": "3.7.6"
  }
 },
 "nbformat": 4,
 "nbformat_minor": 4
}
