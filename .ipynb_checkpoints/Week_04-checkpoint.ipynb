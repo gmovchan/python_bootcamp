{
 "cells": [
  {
   "cell_type": "markdown",
   "metadata": {},
   "source": [
    "# Lists"
   ]
  },
  {
   "cell_type": "code",
   "execution_count": 2,
   "metadata": {},
   "outputs": [
    {
     "name": "stdout",
     "output_type": "stream",
     "text": [
      "[5, 10, 15.2, 20]\n"
     ]
    }
   ],
   "source": [
    "nums = [5, 10, 15.2, 20]\n",
    "print(nums)"
   ]
  },
  {
   "cell_type": "code",
   "execution_count": 3,
   "metadata": {},
   "outputs": [
    {
     "name": "stdout",
     "output_type": "stream",
     "text": [
      "10\n",
      "15.2\n"
     ]
    }
   ],
   "source": [
    "print(nums[1])\n",
    "num = nums[2]\n",
    "print(num)"
   ]
  },
  {
   "cell_type": "code",
   "execution_count": 5,
   "metadata": {},
   "outputs": [
    {
     "name": "stdout",
     "output_type": "stream",
     "text": [
      "[4.3, 'word', True]\n"
     ]
    }
   ],
   "source": [
    "num = 4.3\n",
    "data = [num, \"word\", True]\n",
    "print(data)"
   ]
  },
  {
   "cell_type": "code",
   "execution_count": 7,
   "metadata": {},
   "outputs": [
    {
     "name": "stdout",
     "output_type": "stream",
     "text": [
      "[5, 'book', [34, 'hello'], True]\n",
      "[34, 'hello']\n"
     ]
    }
   ],
   "source": [
    "data = [5, \"book\", [34, \"hello\"], True]\n",
    "print(data)\n",
    "print(data[2])"
   ]
  },
  {
   "cell_type": "code",
   "execution_count": 12,
   "metadata": {},
   "outputs": [
    {
     "name": "stdout",
     "output_type": "stream",
     "text": [
      "34\n",
      "hello\n",
      "h\n"
     ]
    }
   ],
   "source": [
    "print(data[2][0])\n",
    "inner_list = data[2]\n",
    "print(inner_list[1])\n",
    "print(inner_list[1][0])"
   ]
  },
  {
   "cell_type": "code",
   "execution_count": 13,
   "metadata": {},
   "outputs": [
    {
     "name": "stdout",
     "output_type": "stream",
     "text": [
      "[5, 10, 15, 20]\n",
      "[100, 10, 15, 20]\n"
     ]
    }
   ],
   "source": [
    "data = [5, 10, 15, 20]\n",
    "print(data)\n",
    "data[0] = 100\n",
    "print(data)"
   ]
  },
  {
   "cell_type": "code",
   "execution_count": 18,
   "metadata": {},
   "outputs": [
    {
     "name": "stdout",
     "output_type": "stream",
     "text": [
      "a: [5, 10]\t b: [5, 10]\n",
      "Location a[0]: 140707121635856\t Location b[0]: 140707121635856\n",
      "a: [20, 10]\t b: [20, 10]\n",
      "Location a[0]: 140707121636336\t Location b[0]: 140707121636336\n"
     ]
    }
   ],
   "source": [
    "a = [5,10]\n",
    "b = a\n",
    "print(\"a: {}\\t b: {}\".format(a, b))\n",
    "print(\"Location a[0]: {}\\t Location b[0]: {}\".format(id(a[0]), id(b[0])))\n",
    "a[0] = 20\n",
    "print(\"a: {}\\t b: {}\".format(a, b))\n",
    "print(\"Location a[0]: {}\\t Location b[0]: {}\".format(id(a[0]), id(b[0])))"
   ]
  },
  {
   "cell_type": "code",
   "execution_count": 21,
   "metadata": {},
   "outputs": [
    {
     "name": "stdout",
     "output_type": "stream",
     "text": [
      "Location data: 1955282150152\t Location data_copy: 1955282152072\n",
      "data: [50, 10, 15, 20]\t data_copy: [5, 10, 15, 20]\n"
     ]
    }
   ],
   "source": [
    "data = [5, 10, 15, 20]\n",
    "data_copy = data.copy()\n",
    "print(\"Location data: {}\\t Location data_copy: {}\".format(id(data), id(data_copy)))\n",
    "data[0] = 50\n",
    "print(\"data: {}\\t data_copy: {}\".format(data, data_copy))"
   ]
  },
  {
   "cell_type": "code",
   "execution_count": 31,
   "metadata": {},
   "outputs": [
    {
     "name": "stdout",
     "output_type": "stream",
     "text": [
      "I like to play football\n",
      "I like to play basketball\n",
      "I like to play dota 2\n"
     ]
    }
   ],
   "source": [
    "spots = [\"football\", \"basketball\", \"dota 2\"]\n",
    "print(\"I like to play {}\".format(spots[0]))\n",
    "print(\"I like to play {}\".format(spots[1]))\n",
    "print(\"I like to play {}\".format(spots[2]))\n",
    "#print(\"I like to play {}\".format(spots[3]))"
   ]
  },
  {
   "cell_type": "code",
   "execution_count": 30,
   "metadata": {},
   "outputs": [
    {
     "name": "stdout",
     "output_type": "stream",
     "text": [
      "Item's first latters: 'J', 'A', 'S', 'K'.\n"
     ]
    }
   ],
   "source": [
    "names = [\"John\", \"Abraham\", \"Sam\", \"Kelly\"]\n",
    "print(\"Item's first latters: '{}', '{}', '{}', '{}'.\".format(names[0][0], names[1][0], names[2][0], names[3][0],))"
   ]
  },
  {
   "cell_type": "markdown",
   "metadata": {},
   "source": [
    "# For loops"
   ]
  },
  {
   "cell_type": "code",
   "execution_count": 43,
   "metadata": {},
   "outputs": [
    {
     "name": "stdout",
     "output_type": "stream",
     "text": [
      "9\n",
      "99\n",
      "Value: 0\n",
      "Value: 1\n",
      "Value: 2\n",
      "Value: 3\n",
      "Value: 4\n",
      "Value: 5\n",
      "Value: 6\n",
      "Value: 7\n",
      "Value: 8\n",
      "Value: 9\n",
      "9\n"
     ]
    }
   ],
   "source": [
    "print(num)\n",
    "num = 99\n",
    "print(num)\n",
    "for num in range(10):\n",
    "    print(\"Value: {}\".format(num))\n",
    "print(num)"
   ]
  },
  {
   "cell_type": "code",
   "execution_count": 37,
   "metadata": {},
   "outputs": [
    {
     "name": "stdout",
     "output_type": "stream",
     "text": [
      "Value: 2\n",
      "Value: 4\n",
      "Value: 6\n",
      "Value: 8\n"
     ]
    }
   ],
   "source": [
    "for num in range(2, 10, 2):\n",
    "    print(\"Value: {}\".format(num))"
   ]
  },
  {
   "cell_type": "code",
   "execution_count": 38,
   "metadata": {},
   "outputs": [
    {
     "name": "stdout",
     "output_type": "stream",
     "text": [
      "Value: J\n",
      "Value: o\n",
      "Value: h\n",
      "Value: n\n",
      "Value:  \n",
      "Value: S\n",
      "Value: m\n",
      "Value: i\n",
      "Value: t\n",
      "Value: h\n"
     ]
    }
   ],
   "source": [
    "name = \"John Smith\"\n",
    "for letter in name:\n",
    "    print(\"Value: {}\".format(letter))"
   ]
  },
  {
   "cell_type": "code",
   "execution_count": 40,
   "metadata": {},
   "outputs": [
    {
     "name": "stdout",
     "output_type": "stream",
     "text": [
      "0\n",
      "1\n",
      "2\n",
      "4\n"
     ]
    }
   ],
   "source": [
    "for num in range(5):\n",
    "    if num == 3:\n",
    "        continue\n",
    "    print(num)"
   ]
  },
  {
   "cell_type": "code",
   "execution_count": 51,
   "metadata": {},
   "outputs": [
    {
     "name": "stdout",
     "output_type": "stream",
     "text": [
      "0\n",
      "0\n",
      "0\n",
      "0\n",
      "0\n"
     ]
    }
   ],
   "source": [
    "for a in range(5):\n",
    "    print(\"0\")"
   ]
  },
  {
   "cell_type": "code",
   "execution_count": 52,
   "metadata": {},
   "outputs": [
    {
     "name": "stdout",
     "output_type": "stream",
     "text": [
      "0\n",
      "1\n",
      "2\n"
     ]
    }
   ],
   "source": [
    "for num in range(5):\n",
    "    if num == 3:\n",
    "        break\n",
    "    print(num)"
   ]
  },
  {
   "cell_type": "code",
   "execution_count": 54,
   "metadata": {},
   "outputs": [],
   "source": [
    "for i in range(5):\n",
    "    #TODO: add code to print number\n",
    "    pass"
   ]
  },
  {
   "cell_type": "code",
   "execution_count": 65,
   "metadata": {},
   "outputs": [
    {
     "name": "stdout",
     "output_type": "stream",
     "text": [
      "3\n",
      "6\n",
      "9\n",
      "12\n",
      "15\n",
      "18\n",
      "21\n",
      "24\n",
      "27\n",
      "30\n",
      "33\n",
      "36\n",
      "39\n",
      "42\n",
      "45\n",
      "48\n",
      "51\n",
      "54\n",
      "57\n",
      "60\n",
      "63\n",
      "66\n",
      "69\n",
      "72\n",
      "75\n",
      "78\n",
      "81\n",
      "84\n",
      "87\n",
      "90\n",
      "93\n",
      "96\n",
      "99\n"
     ]
    }
   ],
   "source": [
    "for num in range(1, 100):\n",
    "#    print((num / 3))\n",
    "    if (num / 3).is_integer():\n",
    "        print(num)"
   ]
  },
  {
   "cell_type": "code",
   "execution_count": 59,
   "metadata": {},
   "outputs": [
    {
     "name": "stdout",
     "output_type": "stream",
     "text": [
      "True\n"
     ]
    }
   ],
   "source": [
    "num = 3.0\n",
    "print(num.is_integer())"
   ]
  },
  {
   "cell_type": "code",
   "execution_count": 84,
   "metadata": {},
   "outputs": [
    {
     "name": "stdout",
     "output_type": "stream",
     "text": [
      "Type a word: banana\n",
      "The word contains folowing vowels: aaa.\n"
     ]
    }
   ],
   "source": [
    "vowels = [\"a\", \"e\", \"i\", \"o\", \"u\", \"y\"]\n",
    "word = input(\"Type a word: \")\n",
    "vowels_in_word = \"\"\n",
    "for letter in word:\n",
    "    #print(\"Letter: {}\".format(letter))\n",
    "    for vowel in vowels:\n",
    "        #print(\"Vowel: {}\".format(vowel))\n",
    "        #print(\"Letter: {}\".format(letter))\n",
    "        if letter.lower() == vowel:\n",
    "            vowels_in_word += letter\n",
    "print(\"The word contains folowing vowels: {}.\".format(vowels_in_word))"
   ]
  },
  {
   "cell_type": "markdown",
   "metadata": {},
   "source": [
    "# While Loops"
   ]
  },
  {
   "cell_type": "code",
   "execution_count": 1,
   "metadata": {},
   "outputs": [
    {
     "name": "stdout",
     "output_type": "stream",
     "text": [
      "10\n",
      "9\n",
      "8\n",
      "7\n",
      "6\n",
      "5\n",
      "4\n",
      "3\n",
      "2\n",
      "1\n"
     ]
    }
   ],
   "source": [
    "health = 10\n",
    "while health > 0:\n",
    "    print(health)\n",
    "    health -= 1"
   ]
  },
  {
   "cell_type": "code",
   "execution_count": 3,
   "metadata": {},
   "outputs": [
    {
     "name": "stdout",
     "output_type": "stream",
     "text": [
      "0 0\n",
      "0 1\n",
      "0 2\n",
      "1 0\n",
      "1 1\n",
      "1 2\n"
     ]
    }
   ],
   "source": [
    "for i in range(2):\n",
    "    for j in range(3):\n",
    "        print(i, j)"
   ]
  },
  {
   "cell_type": "code",
   "execution_count": 12,
   "metadata": {},
   "outputs": [
    {
     "name": "stdout",
     "output_type": "stream",
     "text": [
      "loop\n",
      "Type the word\"quit\" to stop the script: 1\n",
      "loop\n",
      "Type the word\"quit\" to stop the script: 1\n",
      "loop\n",
      "Type the word\"quit\" to stop the script: quit\n"
     ]
    }
   ],
   "source": [
    "key_word = \"quit\"\n",
    "answer = \"\"\n",
    "while answer != key_word:\n",
    "    #print(\"loop\")\n",
    "    answer = input(\"Type the word\\\"quit\\\" to stop the script: \")"
   ]
  },
  {
   "cell_type": "code",
   "execution_count": 8,
   "metadata": {},
   "outputs": [
    {
     "name": "stdout",
     "output_type": "stream",
     "text": [
      "0\n",
      "1\n",
      "2\n"
     ]
    }
   ],
   "source": [
    "game_over = False\n",
    "#print(game_over)\n",
    "while game_over == False:\n",
    "    #print(\"the while loop goes\")\n",
    "    #print(\"game over = {}\".format(game_over))\n",
    "    for i in range(5):        \n",
    "        if i == 3:\n",
    "            game_over = True\n",
    "            break\n",
    "        print(i)"
   ]
  },
  {
   "cell_type": "markdown",
   "metadata": {},
   "source": [
    "# Working with Lists"
   ]
  },
  {
   "cell_type": "code",
   "execution_count": 12,
   "metadata": {},
   "outputs": [
    {
     "name": "stdout",
     "output_type": "stream",
     "text": [
      "8\n"
     ]
    }
   ],
   "source": [
    "nums = [5, 10, 15, 20, 30, 40, 50, 60]\n",
    "length = len(nums)\n",
    "print(length)"
   ]
  },
  {
   "cell_type": "code",
   "execution_count": 16,
   "metadata": {},
   "outputs": [
    {
     "name": "stdout",
     "output_type": "stream",
     "text": [
      "[10, 15]\n",
      "[5, 10]\n",
      "[5, 15, 30, 50]\n",
      "[50, 60]\n",
      "[5, 10, 15, 20]\n"
     ]
    }
   ],
   "source": [
    "print(nums[1:3])\n",
    "print(nums[:2])\n",
    "print(nums[::2])\n",
    "print(nums[-2:])\n",
    "print(nums[:-4])"
   ]
  },
  {
   "cell_type": "code",
   "execution_count": 17,
   "metadata": {},
   "outputs": [
    {
     "name": "stdout",
     "output_type": "stream",
     "text": [
      "[10, 20, 5]\n"
     ]
    }
   ],
   "source": [
    "nums = [10, 20]\n",
    "nums.append(5)\n",
    "print(nums)"
   ]
  },
  {
   "cell_type": "code",
   "execution_count": 19,
   "metadata": {},
   "outputs": [
    {
     "name": "stdout",
     "output_type": "stream",
     "text": [
      "['glove', 'ball', 'base']\n"
     ]
    }
   ],
   "source": [
    "words = [\"ball\", \"base\"]\n",
    "words.insert(0, \"glove\")\n",
    "print(words)"
   ]
  },
  {
   "cell_type": "code",
   "execution_count": 23,
   "metadata": {},
   "outputs": [
    {
     "name": "stdout",
     "output_type": "stream",
     "text": [
      "5 \n",
      " ['ball']\n"
     ]
    }
   ],
   "source": [
    "items = [5, \"ball\", True]\n",
    "items.pop()\n",
    "removed_item = items.pop(0)\n",
    "print(removed_item, \"\\n\", items)"
   ]
  },
  {
   "cell_type": "code",
   "execution_count": 27,
   "metadata": {},
   "outputs": [
    {
     "name": "stdout",
     "output_type": "stream",
     "text": [
      "['baseball', 'football', 'hockey']\n"
     ]
    }
   ],
   "source": [
    "sports = [\"baseball\", \"soccer\", \"football\", \"hockey\"]\n",
    "try:\n",
    "    sports.remove(\"soccer\")\n",
    "except:\n",
    "    print(\"That item does not exist in the list\")\n",
    "print(sports)"
   ]
  },
  {
   "cell_type": "code",
   "execution_count": 31,
   "metadata": {},
   "outputs": [
    {
     "name": "stdout",
     "output_type": "stream",
     "text": [
      "3\n",
      "9\n",
      "17\n",
      "a\n",
      "x\n"
     ]
    },
    {
     "ename": "TypeError",
     "evalue": "unsupported operand type(s) for +: 'int' and 'str'",
     "output_type": "error",
     "traceback": [
      "\u001b[1;31m---------------------------------------------------------------------------\u001b[0m",
      "\u001b[1;31mTypeError\u001b[0m                                 Traceback (most recent call last)",
      "\u001b[1;32m<ipython-input-31-237189685727>\u001b[0m in \u001b[0;36m<module>\u001b[1;34m\u001b[0m\n\u001b[0;32m      6\u001b[0m \u001b[0mprint\u001b[0m\u001b[1;33m(\u001b[0m\u001b[0mmin\u001b[0m\u001b[1;33m(\u001b[0m\u001b[0mletters\u001b[0m\u001b[1;33m)\u001b[0m\u001b[1;33m)\u001b[0m\u001b[1;33m\u001b[0m\u001b[1;33m\u001b[0m\u001b[0m\n\u001b[0;32m      7\u001b[0m \u001b[0mprint\u001b[0m\u001b[1;33m(\u001b[0m\u001b[0mmax\u001b[0m\u001b[1;33m(\u001b[0m\u001b[0mletters\u001b[0m\u001b[1;33m)\u001b[0m\u001b[1;33m)\u001b[0m\u001b[1;33m\u001b[0m\u001b[1;33m\u001b[0m\u001b[0m\n\u001b[1;32m----> 8\u001b[1;33m \u001b[0mprint\u001b[0m\u001b[1;33m(\u001b[0m\u001b[0msum\u001b[0m\u001b[1;33m(\u001b[0m\u001b[0mletters\u001b[0m\u001b[1;33m)\u001b[0m\u001b[1;33m)\u001b[0m\u001b[1;33m\u001b[0m\u001b[1;33m\u001b[0m\u001b[0m\n\u001b[0m",
      "\u001b[1;31mTypeError\u001b[0m: unsupported operand type(s) for +: 'int' and 'str'"
     ]
    }
   ],
   "source": [
    "nums = [5, 3, 9]\n",
    "letters = [\"a\", \"x\", \"h\"]\n",
    "print(min(nums))\n",
    "print(max(nums))\n",
    "print(sum(nums))\n",
    "print(min(letters))\n",
    "print(max(letters))\n",
    "print(sum(letters))"
   ]
  },
  {
   "cell_type": "code",
   "execution_count": 32,
   "metadata": {},
   "outputs": [
    {
     "name": "stdout",
     "output_type": "stream",
     "text": [
      "[5, 8, 0, 2] [0, 2, 5, 8]\n"
     ]
    }
   ],
   "source": [
    "nums = [5, 8, 0, 2]\n",
    "sorted_nums = sorted(nums)\n",
    "print(nums, sorted_nums)"
   ]
  },
  {
   "cell_type": "code",
   "execution_count": 33,
   "metadata": {},
   "outputs": [
    {
     "name": "stdout",
     "output_type": "stream",
     "text": [
      "[0, 3, 5, 8]\n"
     ]
    }
   ],
   "source": [
    "nums = [5, 0, 8, 3]\n",
    "nums.sort()\n",
    "print(nums)"
   ]
  },
  {
   "cell_type": "code",
   "execution_count": 1,
   "metadata": {},
   "outputs": [
    {
     "name": "stdout",
     "output_type": "stream",
     "text": [
      "found\n",
      "not found\n"
     ]
    }
   ],
   "source": [
    "names = [\"Jack\", \"Robert\", \"Mary\"]\n",
    "if \"Mary\" in names:\n",
    "    print(\"found\")\n",
    "if \"Jimmy\" not in names:\n",
    "    print(\"not found\")"
   ]
  },
  {
   "cell_type": "code",
   "execution_count": 4,
   "metadata": {},
   "outputs": [
    {
     "name": "stdout",
     "output_type": "stream",
     "text": [
      "not empty\n"
     ]
    }
   ],
   "source": [
    "nums = []\n",
    "if not nums:\n",
    "    print(\"empty\")\n",
    "if nums:\n",
    "    print(\"not empty\")"
   ]
  },
  {
   "cell_type": "code",
   "execution_count": 5,
   "metadata": {},
   "outputs": [
    {
     "name": "stdout",
     "output_type": "stream",
     "text": [
      "Baseball\n",
      "Hackey\n",
      "Football\n",
      "Basketball\n"
     ]
    }
   ],
   "source": [
    "sports = [\"Baseball\", \"Hackey\", \"Football\", \"Basketball\"]\n",
    "for sport in sports:\n",
    "    print(sport)"
   ]
  },
  {
   "cell_type": "code",
   "execution_count": 6,
   "metadata": {},
   "outputs": [
    {
     "name": "stdout",
     "output_type": "stream",
     "text": [
      "['Jack', 'Rob', 'Robert']\n"
     ]
    }
   ],
   "source": [
    "names = [\"Bob\", \"Jack\", \"Rob\", \"Bob\", \"Robert\"]\n",
    "while \"Bob\" in names:\n",
    "    names.remove(\"Bob\")\n",
    "print(names)"
   ]
  },
  {
   "cell_type": "code",
   "execution_count": 9,
   "metadata": {},
   "outputs": [
    {
     "name": "stdout",
     "output_type": "stream",
     "text": [
      "['Bob', 'Kenny', 'Amanda']\n"
     ]
    }
   ],
   "source": [
    "names = [\"Bob\", \"Kenny\", \"Amanda\", \"Bob\", \"Kenny\"]\n",
    "i = 0\n",
    "for name in names:\n",
    "    if names.count(name) > 1:\n",
    "        d = i\n",
    "        for name_1 in names[(i+1)::]:\n",
    "            if name_1 == name:\n",
    "                names.pop(d + 1)\n",
    "            d += 1\n",
    "    i += 1\n",
    "print(names)"
   ]
  },
  {
   "cell_type": "code",
   "execution_count": 8,
   "metadata": {},
   "outputs": [
    {
     "name": "stdout",
     "output_type": "stream",
     "text": [
      "Type a word or type \"quite\" to stop the script: хуй\n",
      "Type a word or type \"quite\" to stop the script: пизда\n",
      "Type a word or type \"quite\" to stop the script: джигурда\n",
      "Type a word or type \"quite\" to stop the script: quit\n",
      "\n",
      "хуй\n",
      "пизда\n",
      "джигурда\n"
     ]
    }
   ],
   "source": [
    "words = []\n",
    "word = \"\"\n",
    "while word != \"quit\":\n",
    "    words.append(word)\n",
    "    word = input(\"Type a word or type \\\"quite\\\" to stop the script: \")     \n",
    "for word in words:\n",
    "    print(word)"
   ]
  },
  {
   "cell_type": "markdown",
   "metadata": {},
   "source": [
    "# Friday Project: Creating Hangman"
   ]
  },
  {
   "cell_type": "code",
   "execution_count": 2,
   "metadata": {},
   "outputs": [
    {
     "name": "stdout",
     "output_type": "stream",
     "text": [
      "You guesses correctly!\n",
      "Congratulations, you guessed it correctly!\n"
     ]
    }
   ],
   "source": [
    " \n",
    "    from random import choice\n",
    "    from IPython.display import clear_output\n",
    "    \n",
    "    \n",
    "    words = [\"tree\", \"baslet\", \"chair\", \"paper\", \"python\"]\n",
    "    word = choice(words)\n",
    "    guessed, lives, game_over = [], 7, False\n",
    "    \n",
    "    guesses = [\"_ \"] * len(word)\n",
    "    \n",
    "    \n",
    "    \n",
    "    while not game_over:\n",
    "        \n",
    "        hidden_word = \"\".join(guesses)\n",
    "        print(\"Your guessed letters: {}\".format(guessed))\n",
    "        print(\"Word to guess: {}\".format(hidden_word))\n",
    "        print(\"Lives: {}\".format(lives))\n",
    "        \n",
    "        ans = input(\"Type quit or guess a letter: \").lower()\n",
    "        clear_output()\n",
    "        \n",
    "        if ans == \"quit\":\n",
    "            print(\"Thanks for playing.\")\n",
    "            game_over = True            \n",
    "        elif ans and ans in word:\n",
    "            print(\"You guesses correctly!\")            \n",
    "            \n",
    "            for i in range(len(word)):\n",
    "                if word[i] == ans:\n",
    "\n",
    "                    guesses[i] = ans                \n",
    "        elif ans in guessed:\n",
    "            print(\"You alreadyguessed that. Try again.\")            \n",
    "        else:\n",
    "            lives -= 1\n",
    "            print(\"Incorrect, you lost a life.\")\n",
    "            \n",
    "        if ans not in guessed:\n",
    "            guessed.append(ans)\n",
    "\n",
    "        if lives <= 0:\n",
    "            print(\"You lost all your lives, you lost!\")\n",
    "            game_over = True\n",
    "        elif word == \"\".join(guesses):\n",
    "            print(\"Congratulations, you guessed it correctly!\")\n",
    "            game_over = True"
   ]
  },
  {
   "cell_type": "code",
   "execution_count": 23,
   "metadata": {},
   "outputs": [
    {
     "name": "stdout",
     "output_type": "stream",
     "text": [
      "    x\n",
      "   xxx\n",
      "  xxxxx\n",
      " xxxxxxx\n"
     ]
    }
   ],
   "source": [
    "rows = 4\n",
    "num_of_elems = 1\n",
    "for i in range(rows):    \n",
    "    string = (\" \" * (rows - i)) + (\"x\" * num_of_elems)\n",
    "    print(string)\n",
    "    num_of_elems += 2"
   ]
  },
  {
   "cell_type": "code",
   "execution_count": 29,
   "metadata": {},
   "outputs": [
    {
     "name": "stdout",
     "output_type": "stream",
     "text": [
      "John\n",
      "Amanda\n",
      "Gregory\n"
     ]
    }
   ],
   "source": [
    "names = ['John', ' ', 'Amanda', 5, \"Gregory\"]\n",
    "letters = [\"a\", \"b\", \"c\", \"d\", \"e\", \"f\", \"g\", \"h\", \"i\", \"j\", \"k\", \"l\", \"m\", \"n\", \"o\", \"p\", \"q\", \"r\", \"s\", \"t\", \"u\", \"v\", \"w\", \"x\", \"y\", \"z\"]\n",
    "for name in names:\n",
    "    for letter in letters:\n",
    "        if isinstance(name, str) and letter in name:\n",
    "            print(name)\n",
    "            break\n",
    "    "
   ]
  },
  {
   "cell_type": "code",
   "execution_count": 30,
   "metadata": {},
   "outputs": [
    {
     "name": "stdout",
     "output_type": "stream",
     "text": [
      "[89.6, 53.6, 111.2, 84.2]\n"
     ]
    }
   ],
   "source": [
    "temps = [32, 12, 44, 29]\n",
    "temps_fahrenheit = []\n",
    "for temp_celsius in temps:\n",
    "    temps_fahrenheit.append((9/5) * temp_celsius + 32)\n",
    "print(temps_fahrenheit)"
   ]
  },
  {
   "cell_type": "code",
   "execution_count": 9,
   "metadata": {},
   "outputs": [
    {
     "ename": "UnboundLocalError",
     "evalue": "local variable 'lives' referenced before assignment",
     "output_type": "error",
     "traceback": [
      "\u001b[1;31m---------------------------------------------------------------------------\u001b[0m",
      "\u001b[1;31mUnboundLocalError\u001b[0m                         Traceback (most recent call last)",
      "\u001b[1;32m<ipython-input-9-22c9de98a6ec>\u001b[0m in \u001b[0;36m<module>\u001b[1;34m\u001b[0m\n\u001b[0;32m     56\u001b[0m         \u001b[0mcheckGameOverCondition\u001b[0m\u001b[1;33m(\u001b[0m\u001b[1;33m)\u001b[0m\u001b[1;33m\u001b[0m\u001b[1;33m\u001b[0m\u001b[0m\n\u001b[0;32m     57\u001b[0m \u001b[1;33m\u001b[0m\u001b[0m\n\u001b[1;32m---> 58\u001b[1;33m \u001b[0mmain\u001b[0m\u001b[1;33m(\u001b[0m\u001b[1;33m)\u001b[0m\u001b[1;33m\u001b[0m\u001b[1;33m\u001b[0m\u001b[0m\n\u001b[0m",
      "\u001b[1;32m<ipython-input-9-22c9de98a6ec>\u001b[0m in \u001b[0;36mmain\u001b[1;34m()\u001b[0m\n\u001b[0;32m     52\u001b[0m         \u001b[0mclear_output\u001b[0m\u001b[1;33m(\u001b[0m\u001b[1;33m)\u001b[0m\u001b[1;33m\u001b[0m\u001b[1;33m\u001b[0m\u001b[0m\n\u001b[0;32m     53\u001b[0m \u001b[1;33m\u001b[0m\u001b[0m\n\u001b[1;32m---> 54\u001b[1;33m         \u001b[0mcheckAns\u001b[0m\u001b[1;33m(\u001b[0m\u001b[0mans\u001b[0m\u001b[1;33m)\u001b[0m\u001b[1;33m\u001b[0m\u001b[1;33m\u001b[0m\u001b[0m\n\u001b[0m\u001b[0;32m     55\u001b[0m \u001b[1;33m\u001b[0m\u001b[0m\n\u001b[0;32m     56\u001b[0m         \u001b[0mcheckGameOverCondition\u001b[0m\u001b[1;33m(\u001b[0m\u001b[1;33m)\u001b[0m\u001b[1;33m\u001b[0m\u001b[1;33m\u001b[0m\u001b[0m\n",
      "\u001b[1;32m<ipython-input-9-22c9de98a6ec>\u001b[0m in \u001b[0;36mcheckAns\u001b[1;34m(ans)\u001b[0m\n\u001b[0;32m     24\u001b[0m         \u001b[0mprint\u001b[0m\u001b[1;33m(\u001b[0m\u001b[1;34m\"You alreadyguessed that. Try again.\"\u001b[0m\u001b[1;33m)\u001b[0m\u001b[1;33m\u001b[0m\u001b[1;33m\u001b[0m\u001b[0m\n\u001b[0;32m     25\u001b[0m     \u001b[1;32melse\u001b[0m\u001b[1;33m:\u001b[0m\u001b[1;33m\u001b[0m\u001b[1;33m\u001b[0m\u001b[0m\n\u001b[1;32m---> 26\u001b[1;33m         \u001b[0mlives\u001b[0m \u001b[1;33m-=\u001b[0m \u001b[1;36m1\u001b[0m\u001b[1;33m\u001b[0m\u001b[1;33m\u001b[0m\u001b[0m\n\u001b[0m\u001b[0;32m     27\u001b[0m         \u001b[0mprint\u001b[0m\u001b[1;33m(\u001b[0m\u001b[1;34m\"Incorrect, you lost a life.\"\u001b[0m\u001b[1;33m)\u001b[0m\u001b[1;33m\u001b[0m\u001b[1;33m\u001b[0m\u001b[0m\n\u001b[0;32m     28\u001b[0m \u001b[1;33m\u001b[0m\u001b[0m\n",
      "\u001b[1;31mUnboundLocalError\u001b[0m: local variable 'lives' referenced before assignment"
     ]
    }
   ],
   "source": [
    "\n",
    "from random import choice\n",
    "from IPython.display import clear_output\n",
    "\n",
    "\n",
    "words = [\"tree\", \"baslet\", \"chair\", \"paper\", \"python\"]\n",
    "word = choice(words)\n",
    "guessed, lives, game_over = [], 7, False\n",
    "\n",
    "guesses = [\"_ \"] * len(word)\n",
    "\n",
    "def checkAns(ans):\n",
    "    #print(game_over)\n",
    "    if ans == \"quit\":\n",
    "        print(\"Thanks for playing.\")\n",
    "        game_over = True\n",
    "    elif ans and ans in word:\n",
    "        print(\"You guesses correctly!\")            \n",
    "\n",
    "        for i in range(len(word)):\n",
    "            if word[i] == ans:\n",
    "\n",
    "                guesses[i] = ans                \n",
    "    elif ans in guessed:\n",
    "        print(\"You alreadyguessed that. Try again.\")            \n",
    "    else:\n",
    "        loseLife()\n",
    "\n",
    "    if ans not in guessed:\n",
    "        guessed.append(ans)\n",
    "        \n",
    "    return game_over\n",
    "\n",
    "def checkGameOverCondition():\n",
    "    if lives <= 0:\n",
    "        print(\"You lost all your lives, you lost!\")\n",
    "        game_over = True\n",
    "    elif word == \"\".join(guesses):\n",
    "        print(\"Congratulations, you guessed it correctly!\")\n",
    "        game_over = True\n",
    "        \n",
    "def main():\n",
    "    print(game_over)\n",
    "    while not game_over:\n",
    "\n",
    "        hidden_word = \"\".join(guesses)\n",
    "        print(\"Your guessed letters: {}\".format(guessed))\n",
    "        print(\"Word to guess: {}\".format(hidden_word))\n",
    "        print(\"Lives: {}\".format(lives))\n",
    "\n",
    "        ans = input(\"Type quit or guess a letter: \").lower()\n",
    "        clear_output()\n",
    "\n",
    "        checkAns(ans)\n",
    "\n",
    "        checkGameOverCondition()\n",
    "    \n",
    "def loseLife():\n",
    "    lives -= 1\n",
    "    print(\"Incorrect, you lost a life.\")\n",
    "        \n",
    "main()"
   ]
  },
  {
   "cell_type": "code",
   "execution_count": null,
   "metadata": {},
   "outputs": [],
   "source": []
  }
 ],
 "metadata": {
  "kernelspec": {
   "display_name": "Python 3",
   "language": "python",
   "name": "python3"
  },
  "language_info": {
   "codemirror_mode": {
    "name": "ipython",
    "version": 3
   },
   "file_extension": ".py",
   "mimetype": "text/x-python",
   "name": "python",
   "nbconvert_exporter": "python",
   "pygments_lexer": "ipython3",
   "version": "3.7.6"
  }
 },
 "nbformat": 4,
 "nbformat_minor": 4
}
