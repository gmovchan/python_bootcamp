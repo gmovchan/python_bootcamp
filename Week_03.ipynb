{
 "cells": [
  {
   "cell_type": "markdown",
   "metadata": {},
   "source": [
    "# User Input & Type Converting"
   ]
  },
  {
   "cell_type": "code",
   "execution_count": 1,
   "metadata": {},
   "outputs": [
    {
     "name": "stdout",
     "output_type": "stream",
     "text": [
      "What is your name? Gregory\n",
      "Gregory\n"
     ]
    }
   ],
   "source": [
    "print(input(\"What is your name? \"))"
   ]
  },
  {
   "cell_type": "code",
   "execution_count": 2,
   "metadata": {},
   "outputs": [
    {
     "name": "stdout",
     "output_type": "stream",
     "text": [
      "What is your name? Gregory\n",
      "Hello Gregory!\n"
     ]
    }
   ],
   "source": [
    "ans = input(\"What is your name? \")\n",
    "print(\"Hello {}!\".format(ans))"
   ]
  },
  {
   "cell_type": "code",
   "execution_count": 34,
   "metadata": {},
   "outputs": [
    {
     "ename": "TypeError",
     "evalue": "'str' object is not callable",
     "output_type": "error",
     "traceback": [
      "\u001b[1;31m---------------------------------------------------------------------------\u001b[0m",
      "\u001b[1;31mTypeError\u001b[0m                                 Traceback (most recent call last)",
      "\u001b[1;32m<ipython-input-34-16752abfd54b>\u001b[0m in \u001b[0;36m<module>\u001b[1;34m\u001b[0m\n\u001b[0;32m      1\u001b[0m \u001b[0mnum\u001b[0m \u001b[1;33m=\u001b[0m \u001b[1;36m1.2\u001b[0m\u001b[1;33m\u001b[0m\u001b[1;33m\u001b[0m\u001b[0m\n\u001b[0;32m      2\u001b[0m \u001b[0mnum\u001b[0m \u001b[1;33m=\u001b[0m \u001b[0mint\u001b[0m\u001b[1;33m(\u001b[0m\u001b[0mnum\u001b[0m\u001b[1;33m)\u001b[0m\u001b[1;33m\u001b[0m\u001b[1;33m\u001b[0m\u001b[0m\n\u001b[1;32m----> 3\u001b[1;33m \u001b[0mprint\u001b[0m\u001b[1;33m(\u001b[0m\u001b[0mtype\u001b[0m\u001b[1;33m(\u001b[0m\u001b[0mnum\u001b[0m\u001b[1;33m)\u001b[0m\u001b[1;33m)\u001b[0m\u001b[1;33m\u001b[0m\u001b[1;33m\u001b[0m\u001b[0m\n\u001b[0m",
      "\u001b[1;31mTypeError\u001b[0m: 'str' object is not callable"
     ]
    }
   ],
   "source": [
    "num = 1.2\n",
    "num = int(num)\n",
    "print(type(num))"
   ]
  },
  {
   "cell_type": "code",
   "execution_count": 15,
   "metadata": {},
   "outputs": [
    {
     "name": "stdout",
     "output_type": "stream",
     "text": [
      "Type a number to ass: 1\n",
      "<class 'str'>\n",
      "100 + 1 = 101\n"
     ]
    }
   ],
   "source": [
    "ans = input(\"Type a number to ass: \")\n",
    "print(type(ans))\n",
    "result = 100 + int(ans)\n",
    "print(\"100 + {} = {}\".format(ans, result))"
   ]
  },
  {
   "cell_type": "code",
   "execution_count": 17,
   "metadata": {},
   "outputs": [
    {
     "name": "stdout",
     "output_type": "stream",
     "text": [
      "Type a number to add: a\n",
      "You didn't put a valid number!\n",
      "The program didn't break\n"
     ]
    }
   ],
   "source": [
    "try:\n",
    "    ans = float(input(\"Type a number to add: \"))\n",
    "    print(\"100 + {} = {}\".format(ans, 100 + ans))\n",
    "except: print(\"You didn't put a valid number!\")\n",
    "    \n",
    "print(\"The program didn't break\")"
   ]
  },
  {
   "cell_type": "code",
   "execution_count": 20,
   "metadata": {},
   "outputs": [
    {
     "name": "stdout",
     "output_type": "stream",
     "text": [
      "Tupre the first number to add: a\n",
      "You didn't put a valid number!\n",
      "The program didn't break\n"
     ]
    }
   ],
   "source": [
    "try:\n",
    "    num1 = float(input(\"Typre the first number to add: \"))\n",
    "    num2 = float(input(\"Typre the second number to add: \"))\n",
    "    print(\"{} + {} = {}\".format(num1, num2, num1 + num2))\n",
    "except: print(\"You didn't put a valid number!\")\n",
    "    \n",
    "print(\"The program didn't break\")"
   ]
  },
  {
   "cell_type": "code",
   "execution_count": 5,
   "metadata": {},
   "outputs": [
    {
     "name": "stdout",
     "output_type": "stream",
     "text": [
      "Type the year of your car: 1990\n",
      "Type the make of your car: VAZ\n",
      "Type the model of your car: Kopeika\n",
      "Type the color of your car: Black\n",
      "1990 Black VAZ Kopeika\n",
      "The program didn't break\n"
     ]
    }
   ],
   "source": [
    "try:\n",
    "    year = str(input(\"Type the year of your car: \"))\n",
    "    make = str(input(\"Type the make of your car: \"))\n",
    "    model = str(input(\"Type the model of your car: \"))\n",
    "    color = str(input(\"Type the color of your car: \"))     \n",
    "    print(\"{} {} {} {}\".format(year, color, make, model))\n",
    "except: print(\"You didn't put a valid data!\")\n",
    "    \n",
    "print(\"The program didn't break\")"
   ]
  },
  {
   "cell_type": "markdown",
   "metadata": {},
   "source": [
    "# If Statements"
   ]
  },
  {
   "cell_type": "code",
   "execution_count": 6,
   "metadata": {},
   "outputs": [
    {
     "name": "stdout",
     "output_type": "stream",
     "text": [
      "x is less than y\n"
     ]
    }
   ],
   "source": [
    "x, y = 5, 10\n",
    "if x < y:\n",
    "    print(\"x is less than y\")"
   ]
  },
  {
   "cell_type": "code",
   "execution_count": 10,
   "metadata": {},
   "outputs": [
    {
     "name": "stdout",
     "output_type": "stream",
     "text": [
      "What is 5 + 5? a\n"
     ]
    },
    {
     "ename": "ValueError",
     "evalue": "invalid literal for int() with base 10: 'a'",
     "output_type": "error",
     "traceback": [
      "\u001b[1;31m---------------------------------------------------------------------------\u001b[0m",
      "\u001b[1;31mValueError\u001b[0m                                Traceback (most recent call last)",
      "\u001b[1;32m<ipython-input-10-e73877ccf9f9>\u001b[0m in \u001b[0;36m<module>\u001b[1;34m\u001b[0m\n\u001b[1;32m----> 1\u001b[1;33m \u001b[0mans\u001b[0m \u001b[1;33m=\u001b[0m \u001b[0mint\u001b[0m\u001b[1;33m(\u001b[0m\u001b[0minput\u001b[0m\u001b[1;33m(\u001b[0m\u001b[1;34m\"What is 5 + 5? \"\u001b[0m\u001b[1;33m)\u001b[0m\u001b[1;33m)\u001b[0m\u001b[1;33m\u001b[0m\u001b[1;33m\u001b[0m\u001b[0m\n\u001b[0m\u001b[0;32m      2\u001b[0m \u001b[1;32mif\u001b[0m \u001b[0mans\u001b[0m \u001b[1;33m==\u001b[0m \u001b[1;36m10\u001b[0m\u001b[1;33m:\u001b[0m\u001b[1;33m\u001b[0m\u001b[1;33m\u001b[0m\u001b[0m\n\u001b[0;32m      3\u001b[0m     \u001b[0mprint\u001b[0m\u001b[1;33m(\u001b[0m\u001b[1;34m\"You got ot right!\"\u001b[0m\u001b[1;33m)\u001b[0m\u001b[1;33m\u001b[0m\u001b[1;33m\u001b[0m\u001b[0m\n",
      "\u001b[1;31mValueError\u001b[0m: invalid literal for int() with base 10: 'a'"
     ]
    }
   ],
   "source": [
    "ans = int(input(\"What is 5 + 5? \"))\n",
    "if ans == 10:\n",
    "    print(\"You got ot right!\")"
   ]
  },
  {
   "cell_type": "code",
   "execution_count": 11,
   "metadata": {},
   "outputs": [
    {
     "name": "stdout",
     "output_type": "stream",
     "text": [
      "Both statements were true\n"
     ]
    }
   ],
   "source": [
    "x, y, z = 5, 10, 5\n",
    "if x < y and x == z:\n",
    "    print(\"Both statements were true\")"
   ]
  },
  {
   "cell_type": "code",
   "execution_count": 12,
   "metadata": {},
   "outputs": [
    {
     "name": "stdout",
     "output_type": "stream",
     "text": [
      "One or both statements were true\n"
     ]
    }
   ],
   "source": [
    "x, y, z = 5, 10, 5\n",
    "if x < y or x != z:\n",
    "    print(\"One or both statements were true\")"
   ]
  },
  {
   "cell_type": "code",
   "execution_count": 13,
   "metadata": {},
   "outputs": [
    {
     "name": "stdout",
     "output_type": "stream",
     "text": [
      "Flag is False\n"
     ]
    }
   ],
   "source": [
    "flag = False\n",
    "if not flag:\n",
    "    print(\"Flag is False\")"
   ]
  },
  {
   "cell_type": "code",
   "execution_count": 15,
   "metadata": {},
   "outputs": [
    {
     "name": "stdout",
     "output_type": "stream",
     "text": [
      "Baseball contains the character b\n"
     ]
    }
   ],
   "source": [
    "word = \"Baseball\"\n",
    "if \"b\" in word:\n",
    "    print(\"{} contains the character b\".format(word))"
   ]
  },
  {
   "cell_type": "code",
   "execution_count": 17,
   "metadata": {},
   "outputs": [
    {
     "name": "stdout",
     "output_type": "stream",
     "text": [
      "Baseball doesn't contain the character x\n"
     ]
    }
   ],
   "source": [
    "word = \"Baseball\"\n",
    "if \"x\" not in word:\n",
    "    print(\"{} doesn't contain the character x\".format(word))"
   ]
  },
  {
   "cell_type": "code",
   "execution_count": 24,
   "metadata": {},
   "outputs": [
    {
     "name": "stdout",
     "output_type": "stream",
     "text": [
      "Type a word: really\n"
     ]
    }
   ],
   "source": [
    "word = input(\"Type a word: \")\n",
    "if \"es\" in word:\n",
    "    print(\"The word {} contains es\".format(word))"
   ]
  },
  {
   "cell_type": "code",
   "execution_count": 27,
   "metadata": {},
   "outputs": [
    {
     "name": "stdout",
     "output_type": "stream",
     "text": [
      "ng\n"
     ]
    }
   ],
   "source": [
    "print(\"ng\"[-3::])"
   ]
  },
  {
   "cell_type": "code",
   "execution_count": 32,
   "metadata": {},
   "outputs": [
    {
     "name": "stdout",
     "output_type": "stream",
     "text": [
      "Type a word: going \n"
     ]
    }
   ],
   "source": [
    "word = input(\"Type a word: \")\n",
    "if \"ing\" in word[-3::]:\n",
    "    print(\"The word {} contains \\\"ing\\\"\".format(word))"
   ]
  },
  {
   "cell_type": "code",
   "execution_count": 4,
   "metadata": {},
   "outputs": [
    {
     "name": "stdout",
     "output_type": "stream",
     "text": [
      "Type the first word: хуй\n",
      "Type the second word: пизда\n"
     ]
    }
   ],
   "source": [
    "word_1 = input(\"Type the first word: \")\n",
    "word_2 = input(\"Type the second word: \")\n",
    "if word_1.lower() == word_2.lower():\n",
    "    print(\"The words {} and {} are equal\".format(word_1, word_2))"
   ]
  },
  {
   "cell_type": "code",
   "execution_count": 9,
   "metadata": {},
   "outputs": [
    {
     "name": "stdout",
     "output_type": "stream",
     "text": [
      "Type a number: 4\n",
      "16\n"
     ]
    }
   ],
   "source": [
    "num = int(input(\"Type a number: \"))\n",
    "if num < 10:\n",
    "    print(num ** 2)"
   ]
  },
  {
   "cell_type": "markdown",
   "metadata": {},
   "source": [
    "# Elif Statements"
   ]
  },
  {
   "cell_type": "code",
   "execution_count": 10,
   "metadata": {},
   "outputs": [
    {
     "name": "stdout",
     "output_type": "stream",
     "text": [
      "x is less\n"
     ]
    }
   ],
   "source": [
    "x, y = 5, 10\n",
    "if x > y:\n",
    "    print(\"x is greater\")\n",
    "elif x < y:\n",
    "    print(\"x is less\")"
   ]
  },
  {
   "cell_type": "code",
   "execution_count": 11,
   "metadata": {},
   "outputs": [
    {
     "name": "stdout",
     "output_type": "stream",
     "text": [
      "equal\n"
     ]
    }
   ],
   "source": [
    "x, y = 5, 10\n",
    "if x > y:\n",
    "    print(\"x is greater\")\n",
    "elif (x + 10) < y:\n",
    "    print(\"x is less\")\n",
    "elif (x + 5) == y:\n",
    "    print(\"equal\")"
   ]
  },
  {
   "cell_type": "code",
   "execution_count": 14,
   "metadata": {},
   "outputs": [
    {
     "name": "stdout",
     "output_type": "stream",
     "text": [
      "x is equal to z\n"
     ]
    }
   ],
   "source": [
    "x, y, z = 5, 10, 5\n",
    "if x > y:\n",
    "    print(\"grater\")\n",
    "elif x <= y:\n",
    "    if x == z:\n",
    "        print(\"x is equal to z\")\n",
    "    elif x != z:\n",
    "        print(\"x is not equal to z\")"
   ]
  },
  {
   "cell_type": "code",
   "execution_count": 15,
   "metadata": {},
   "outputs": [
    {
     "name": "stdout",
     "output_type": "stream",
     "text": [
      "x is less\n",
      "x is equal\n"
     ]
    }
   ],
   "source": [
    "x, t, z = 5, 10, 5\n",
    "if x < y:\n",
    "    print(\"x is less\")\n",
    "if x == z:\n",
    "    print(\"x is equal\")"
   ]
  },
  {
   "cell_type": "code",
   "execution_count": 16,
   "metadata": {},
   "outputs": [
    {
     "name": "stdout",
     "output_type": "stream",
     "text": [
      "x is less\n"
     ]
    }
   ],
   "source": [
    "x, t, z = 5, 10, 5\n",
    "if x < y:\n",
    "    print(\"x is less\")\n",
    "elif x == z:\n",
    "    print(\"x is equal\")"
   ]
  },
  {
   "cell_type": "code",
   "execution_count": 18,
   "metadata": {},
   "outputs": [
    {
     "name": "stdout",
     "output_type": "stream",
     "text": [
      "Type a number101\n",
      "The number is higher than 100\n"
     ]
    }
   ],
   "source": [
    "number = int(input(\"Type a number\"))\n",
    "if number < 100:\n",
    "    print(\"The number is lower than 100\")\n",
    "elif number > 100:\n",
    "    print(\"The number is higher than 100\")"
   ]
  },
  {
   "cell_type": "markdown",
   "metadata": {},
   "source": [
    "# Else Statements"
   ]
  },
  {
   "cell_type": "code",
   "execution_count": 19,
   "metadata": {},
   "outputs": [
    {
     "name": "stdout",
     "output_type": "stream",
     "text": [
      "Hello John!\n"
     ]
    }
   ],
   "source": [
    "name = \"John\"\n",
    "if name == \"Jacob\":\n",
    "    print(\"Hello Jacob!\")\n",
    "else:\n",
    "    print(\"Hello {}!\".format(name))"
   ]
  },
  {
   "cell_type": "code",
   "execution_count": 20,
   "metadata": {},
   "outputs": [
    {
     "name": "stdout",
     "output_type": "stream",
     "text": [
      "Name starts with an J\n"
     ]
    }
   ],
   "source": [
    "name = \"John\"\n",
    "if name[0] == \"A\":\n",
    "    print(\"Name starts with an A\")\n",
    "if name[0] == \"B\":\n",
    "    print(\"Name starts with an B\")\n",
    "if name[0] == \"J\":\n",
    "    print(\"Name starts with an J\")\n",
    "else:\n",
    "    print(\"Name starts with a {}\".format(name[0]))"
   ]
  },
  {
   "cell_type": "code",
   "execution_count": 24,
   "metadata": {},
   "outputs": [
    {
     "name": "stdout",
     "output_type": "stream",
     "text": [
      "Type the time of day in military time withouta colon: 1700\n",
      "Good Evening\n"
     ]
    }
   ],
   "source": [
    "time = int(input(\"Type the time of day in military time withouta colon: \"))\n",
    "if time < 1200:\n",
    "    print(\"Good Morning\")\n",
    "elif time < 1700:\n",
    "    print(\"Good Afternoon\")\n",
    "else: \n",
    "    print(\"Good Evening\")"
   ]
  },
  {
   "cell_type": "markdown",
   "metadata": {},
   "source": [
    "# Friday Project: Creating a Calculator."
   ]
  },
  {
   "cell_type": "code",
   "execution_count": 4,
   "metadata": {},
   "outputs": [
    {
     "name": "stdout",
     "output_type": "stream",
     "text": [
      "Would you like to add/subtract/multiply/divide? divide\n",
      "You chose divide.\n",
      "Please keep in mind that the  order of your numbers matter\n",
      "What is the first number? 10\n",
      "What is the second number? 5\n",
      "First Number: 10\n",
      "Second Number: 5\n",
      "Would you like to reverce the placement of the numbers? Answer yes or leave the the form empty: yes\n",
      "the placement has been reversed:\n",
      "First Number: 5\n",
      "Second Number: 10\n",
      "5.0 / 10.0 = 0.5\n"
     ]
    }
   ],
   "source": [
    "operation = input(\"Would you like to add/subtract/multiply/divide? \").lower()\n",
    "if operation == \"substract\" or operation == \"divide\":\n",
    "    print(\"You chose {}.\".format(operation))\n",
    "    print(\"Please keep in mind that the order of your numbers matter\")\n",
    "num1 = input(\"What is the first number? \")\n",
    "num2 = input(\"What is the second number? \")\n",
    "print(\"First Number: {}\".format(num1))\n",
    "print(\"Second Number: {}\".format(num2))\n",
    "\n",
    "reverse = input(\"Would you like to reverce the placement of the numbers? Answer yes or leave the the form empty: \")\n",
    "\n",
    "if reverse == \"yes\":\n",
    "    num_buffer = num1\n",
    "    num1 = num2\n",
    "    num2 = num_buffer\n",
    "    print(\"the placement has been reversed:\")\n",
    "    print(\"First Number: {}\".format(num1))\n",
    "    print(\"Second Number: {}\".format(num2))\n",
    "else:\n",
    "    print(\"The placement has not been chaneged.\")\n",
    "    \n",
    "\n",
    "try:\n",
    "    num1, num2 = float(num1), float(num2)\n",
    "    if operation == \"add\":\n",
    "        result = num1 + num2\n",
    "        print(\"{} + {} = {}\".format(num1, num2, result))\n",
    "    elif operation == \"subtract\":\n",
    "        result = num1 - num2\n",
    "        print(\"{} - {} = {}\".format(num1, num2, result))\n",
    "    elif operation == \"multiply\":\n",
    "        result = num1 * num2\n",
    "        print(\"{} * {} = {}\".format(num1, num2, result))\n",
    "    elif operation == \"divide\":\n",
    "        result = num1 / num2\n",
    "        print(\"{} / {} = {}\".format(num1, num2, result))\n",
    "    else:\n",
    "        print(\"Sorry, but '{}' is not an option.\".format(operation))\n",
    "        \n",
    "except:\n",
    "    print(\"Error: Improper numbers used. Please try again\")\n",
    "        "
   ]
  },
  {
   "cell_type": "code",
   "execution_count": 8,
   "metadata": {},
   "outputs": [
    {
     "name": "stdout",
     "output_type": "stream",
     "text": [
      "Type your age: a\n",
      "Error: The data is not a number. Please try agein\n"
     ]
    }
   ],
   "source": [
    "try:\n",
    "    age = int(input(\"Type your age: \"))\n",
    "    if age <= 12:\n",
    "        print(\"You're a kid\")\n",
    "    elif age <= 19:\n",
    "        print(\"You're a teenager\")\n",
    "    elif age <= 30:\n",
    "        print(\"You're a young adult\")\n",
    "    elif age <= 64:\n",
    "        print(\"You're an adult\")\n",
    "    elif age >= 65:\n",
    "        print(\"You're a senior\")\n",
    "except:\n",
    "    print(\"Error: The data is not a number. Please try again\")"
   ]
  },
  {
   "cell_type": "code",
   "execution_count": 16,
   "metadata": {},
   "outputs": [
    {
     "name": "stdout",
     "output_type": "stream",
     "text": [
      "You get to the crossroad and saw a big stone. It has an inscription that says:\n",
      "If you go to the right, you will lose your horse\n",
      "If you go to the left, you will lose yourself\n",
      "If you go straight, you will lose both yourself and your horse\n",
      "Where will you go? left/right/straightright\n",
      "You've chosen the left road.\n",
      "You're dead.\n"
     ]
    }
   ],
   "source": [
    "print(\"You get to the crossroad and saw a big stone. It has an inscription that says:\")\n",
    "print(\"If you go to the right, you will lose your horse\")\n",
    "print(\"If you go to the left, you will lose yourself\")\n",
    "print(\"If you go straight, you will lose both yourself and your horse\")\n",
    "\n",
    "direction = input(\"Where will you go? left/right/straight\").lower()\n",
    "if direction == \"left\":\n",
    "    print(\"You've chosen the right road.\")\n",
    "    print(\"You've lost your horse.\")\n",
    "elif direction == \"right\":\n",
    "    print(\"You've chosen the left road.\")\n",
    "    print(\"You're dead.\")\n",
    "elif direction == \"straight\":\n",
    "    print(\"You've gone straight.\")\n",
    "    print(\"Your horse and you are dead.\")\n",
    "else: \n",
    "    print(\"Error: You've chosen the option that didn't exist. Please try again\")"
   ]
  },
  {
   "cell_type": "code",
   "execution_count": null,
   "metadata": {},
   "outputs": [],
   "source": []
  }
 ],
 "metadata": {
  "kernelspec": {
   "display_name": "Python 3",
   "language": "python",
   "name": "python3"
  },
  "language_info": {
   "codemirror_mode": {
    "name": "ipython",
    "version": 3
   },
   "file_extension": ".py",
   "mimetype": "text/x-python",
   "name": "python",
   "nbconvert_exporter": "python",
   "pygments_lexer": "ipython3",
   "version": "3.7.6"
  }
 },
 "nbformat": 4,
 "nbformat_minor": 4
}
