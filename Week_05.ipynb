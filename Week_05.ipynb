{
 "cells": [
  {
   "cell_type": "markdown",
   "metadata": {},
   "source": [
    "# Creating & Calling Functions"
   ]
  },
  {
   "cell_type": "code",
   "execution_count": 1,
   "metadata": {},
   "outputs": [
    {
     "name": "stdout",
     "output_type": "stream",
     "text": [
      "Name: John Smith\n",
      "Age: 45\n",
      "Name: John Smith\n",
      "Age: 45\n"
     ]
    }
   ],
   "source": [
    "def printInfo():\n",
    "    print(\"Name: John Smith\")\n",
    "    print(\"Age: 45\")\n",
    "printInfo()\n",
    "printInfo()"
   ]
  },
  {
   "cell_type": "code",
   "execution_count": 2,
   "metadata": {},
   "outputs": [
    {
     "name": "stdout",
     "output_type": "stream",
     "text": [
      "15\n"
     ]
    }
   ],
   "source": [
    "def calc():\n",
    "    x, y = 5, 10\n",
    "    print(x + y)\n",
    "calc()"
   ]
  },
  {
   "cell_type": "code",
   "execution_count": 3,
   "metadata": {},
   "outputs": [
    {
     "name": "stdout",
     "output_type": "stream",
     "text": [
      "Gregory\n"
     ]
    }
   ],
   "source": [
    "def myName():\n",
    "    print(\"Gregory\")\n",
    "myName()"
   ]
  },
  {
   "cell_type": "code",
   "execution_count": 4,
   "metadata": {},
   "outputs": [
    {
     "name": "stdout",
     "output_type": "stream",
     "text": [
      "Broccolini\n",
      "sausage\n",
      "Capers\n",
      "Mushrooms\n",
      "Garlic\n"
     ]
    }
   ],
   "source": [
    "def pizzaToppings():\n",
    "    toppings = [\"Broccolini\", \"sausage\", \"Capers\", \"Mushrooms\", \"Garlic\"]\n",
    "    for topping in toppings:\n",
    "        print(topping)\n",
    "\n",
    "pizzaToppings()"
   ]
  },
  {
   "cell_type": "code",
   "execution_count": 5,
   "metadata": {},
   "outputs": [
    {
     "name": "stdout",
     "output_type": "stream",
     "text": [
      "your name is: John Smith\n",
      "your name is: Amanda\n"
     ]
    }
   ],
   "source": [
    "def printName(full_name):\n",
    "    print(\"your name is: {}\".format(full_name))\n",
    "printName(\"John Smith\")\n",
    "printName(\"Amanda\")"
   ]
  },
  {
   "cell_type": "code",
   "execution_count": 7,
   "metadata": {},
   "outputs": [
    {
     "name": "stdout",
     "output_type": "stream",
     "text": [
      "5 + 8 = 13\n",
      "3.5 + 5.5 = 9.0\n",
      "a + b = ab\n"
     ]
    }
   ],
   "source": [
    "def addNums(num1, num2):\n",
    "    result = num1 + num2\n",
    "    print(\"{} + {} = {}\".format(num1, num2, result))\n",
    "    \n",
    "addNums(5, 8)\n",
    "addNums(3.5, 5.5)\n",
    "addNums(\"a\", \"b\")"
   ]
  },
  {
   "cell_type": "code",
   "execution_count": 8,
   "metadata": {},
   "outputs": [
    {
     "name": "stdout",
     "output_type": "stream",
     "text": [
      "4\n",
      "16\n",
      "25\n",
      "100\n",
      "1\n",
      "9\n",
      "36\n"
     ]
    }
   ],
   "source": [
    "numbers1 = [2, 4, 5, 10]\n",
    "numbers2 = [1, 3, 6]\n",
    "def squares(nums):\n",
    "    for num in nums:\n",
    "        print(num**2)\n",
    "squares(numbers1)\n",
    "squares(numbers2)"
   ]
  },
  {
   "cell_type": "code",
   "execution_count": 11,
   "metadata": {},
   "outputs": [
    {
     "name": "stdout",
     "output_type": "stream",
     "text": [
      "Area: 12.56\n"
     ]
    }
   ],
   "source": [
    "def calcArea(r, pi=3.14):\n",
    "    area = pi * (r**2)\n",
    "    print(\"Area: {}\".format(area))\n",
    "calcArea(2)"
   ]
  },
  {
   "cell_type": "code",
   "execution_count": 12,
   "metadata": {},
   "outputs": [
    {
     "name": "stdout",
     "output_type": "stream",
     "text": [
      "John \n",
      "john Paul Smith\n"
     ]
    }
   ],
   "source": [
    "def printName(first, last, middle=\"\"):\n",
    "    if middle:\n",
    "        print(\"{} {} {}\".format(first, middle, last))\n",
    "    else:\n",
    "        print(\"{} {}\".format(first, middle))\n",
    "\n",
    "printName(\"John\", \"Smith\")\n",
    "printName(\"john\", \"Smith\", \"Paul\")"
   ]
  },
  {
   "cell_type": "code",
   "execution_count": 16,
   "metadata": {},
   "outputs": [
    {
     "name": "stdout",
     "output_type": "stream",
     "text": [
      "2.5\n",
      "5\n"
     ]
    }
   ],
   "source": [
    "def addNums(num1, num2):\n",
    "    print(num2)\n",
    "    print(num1)\n",
    "\n",
    "addNums(5, num2 = 2.5)"
   ]
  },
  {
   "cell_type": "code",
   "execution_count": 17,
   "metadata": {},
   "outputs": [
    {
     "name": "stdout",
     "output_type": "stream",
     "text": [
      "<class 'tuple'>\n",
      "5\n",
      "True\n",
      "Jess\n"
     ]
    }
   ],
   "source": [
    "def outputData(name, *args):\n",
    "    print(type(args))\n",
    "    for arg in args:\n",
    "        print(arg)\n",
    "outputData(\"John Smith\", 5, True, \"Jess\")"
   ]
  },
  {
   "cell_type": "code",
   "execution_count": 21,
   "metadata": {},
   "outputs": [
    {
     "name": "stdout",
     "output_type": "stream",
     "text": [
      "<class 'dict'>\n",
      "John Smith\n",
      "5\n"
     ]
    }
   ],
   "source": [
    "def outputData(**kwargs):\n",
    "    print(type(kwargs))\n",
    "    print(kwargs[\"name\"])\n",
    "    print(kwargs[\"num\"])\n",
    "outputData(name = \"John Smith\", num = 5, b = True)"
   ]
  },
  {
   "cell_type": "code",
   "execution_count": 24,
   "metadata": {},
   "outputs": [
    {
     "name": "stdout",
     "output_type": "stream",
     "text": [
      "Type a word: Anna\n",
      "True\n"
     ]
    }
   ],
   "source": [
    "word = input(\"Type a word: \")\n",
    "def checkCase(word):\n",
    "    if word[0] == word[0].upper():\n",
    "        print(\"True\")\n",
    "    else:\n",
    "        print(\"False\")\n",
    "checkCase(word)"
   ]
  },
  {
   "cell_type": "code",
   "execution_count": 27,
   "metadata": {},
   "outputs": [
    {
     "name": "stdout",
     "output_type": "stream",
     "text": [
      "Noname passed in\n",
      "John Smith\n"
     ]
    }
   ],
   "source": [
    "def printNames(first = \"\", last = \"\"):\n",
    "    if first and last:\n",
    "        print(\"{} {}\".format(first, last))\n",
    "    else:\n",
    "        print(\"Noname passed in\")\n",
    "printNames()\n",
    "printNames(\"John\", \"Smith\")"
   ]
  },
  {
   "cell_type": "markdown",
   "metadata": {},
   "source": [
    "# Return Statement"
   ]
  },
  {
   "cell_type": "code",
   "execution_count": 28,
   "metadata": {},
   "outputs": [
    {
     "name": "stdout",
     "output_type": "stream",
     "text": [
      "10.0\n",
      "20\n"
     ]
    }
   ],
   "source": [
    "def addNums(num1, num2):\n",
    "    return num1 + num2\n",
    "num = addNums(5.5, 4.5)\n",
    "print(num)\n",
    "print(addNums(10, 10))"
   ]
  },
  {
   "cell_type": "code",
   "execution_count": 31,
   "metadata": {},
   "outputs": [
    {
     "name": "stdout",
     "output_type": "stream",
     "text": [
      "False\n"
     ]
    }
   ],
   "source": [
    "def searchList(eList, el):\n",
    "    return True if el in eList else False\n",
    "result = searchList([\"one\", 2, \"three\"], 3)\n",
    "print(result)"
   ]
  },
  {
   "cell_type": "code",
   "execution_count": 32,
   "metadata": {},
   "outputs": [
    {
     "name": "stdout",
     "output_type": "stream",
     "text": [
      "John Smith\n"
     ]
    }
   ],
   "source": [
    "def getFullName(first, last):\n",
    "    return (\"{} {}\".format(first, last))\n",
    "\n",
    "print(getFullName(\"John\", \"Smith\"))"
   ]
  },
  {
   "cell_type": "code",
   "execution_count": 33,
   "metadata": {},
   "outputs": [
    {
     "name": "stdout",
     "output_type": "stream",
     "text": [
      "Type a word: хуй\n",
      "the word is: хуй\n"
     ]
    }
   ],
   "source": [
    "def askWord():\n",
    "    answer = input(\"Type a word: \")\n",
    "    return answer\n",
    "word = askWord()\n",
    "print(\"the word is: {}\".format(word))"
   ]
  },
  {
   "cell_type": "markdown",
   "metadata": {},
   "source": [
    "# Scope"
   ]
  },
  {
   "cell_type": "code",
   "execution_count": 34,
   "metadata": {},
   "outputs": [
    {
     "ename": "UnboundLocalError",
     "evalue": "local variable 'number' referenced before assignment",
     "output_type": "error",
     "traceback": [
      "\u001b[1;31m---------------------------------------------------------------------------\u001b[0m",
      "\u001b[1;31mUnboundLocalError\u001b[0m                         Traceback (most recent call last)",
      "\u001b[1;32m<ipython-input-34-410fc7760cb5>\u001b[0m in \u001b[0;36m<module>\u001b[1;34m\u001b[0m\n\u001b[0;32m      2\u001b[0m \u001b[1;32mdef\u001b[0m \u001b[0mscopeTest\u001b[0m\u001b[1;33m(\u001b[0m\u001b[1;33m)\u001b[0m\u001b[1;33m:\u001b[0m\u001b[1;33m\u001b[0m\u001b[1;33m\u001b[0m\u001b[0m\n\u001b[0;32m      3\u001b[0m     \u001b[0mnumber\u001b[0m \u001b[1;33m+=\u001b[0m \u001b[1;36m1\u001b[0m\u001b[1;33m\u001b[0m\u001b[1;33m\u001b[0m\u001b[0m\n\u001b[1;32m----> 4\u001b[1;33m \u001b[0mscopeTest\u001b[0m\u001b[1;33m(\u001b[0m\u001b[1;33m)\u001b[0m\u001b[1;33m\u001b[0m\u001b[1;33m\u001b[0m\u001b[0m\n\u001b[0m",
      "\u001b[1;32m<ipython-input-34-410fc7760cb5>\u001b[0m in \u001b[0;36mscopeTest\u001b[1;34m()\u001b[0m\n\u001b[0;32m      1\u001b[0m \u001b[0mnumber\u001b[0m \u001b[1;33m=\u001b[0m \u001b[1;36m5\u001b[0m\u001b[1;33m\u001b[0m\u001b[1;33m\u001b[0m\u001b[0m\n\u001b[0;32m      2\u001b[0m \u001b[1;32mdef\u001b[0m \u001b[0mscopeTest\u001b[0m\u001b[1;33m(\u001b[0m\u001b[1;33m)\u001b[0m\u001b[1;33m:\u001b[0m\u001b[1;33m\u001b[0m\u001b[1;33m\u001b[0m\u001b[0m\n\u001b[1;32m----> 3\u001b[1;33m     \u001b[0mnumber\u001b[0m \u001b[1;33m+=\u001b[0m \u001b[1;36m1\u001b[0m\u001b[1;33m\u001b[0m\u001b[1;33m\u001b[0m\u001b[0m\n\u001b[0m\u001b[0;32m      4\u001b[0m \u001b[0mscopeTest\u001b[0m\u001b[1;33m(\u001b[0m\u001b[1;33m)\u001b[0m\u001b[1;33m\u001b[0m\u001b[1;33m\u001b[0m\u001b[0m\n",
      "\u001b[1;31mUnboundLocalError\u001b[0m: local variable 'number' referenced before assignment"
     ]
    }
   ],
   "source": [
    "number = 5\n",
    "def scopeTest():\n",
    "    number += 1\n",
    "scopeTest()"
   ]
  },
  {
   "cell_type": "code",
   "execution_count": 36,
   "metadata": {},
   "outputs": [
    {
     "name": "stdout",
     "output_type": "stream",
     "text": [
      "function\n"
     ]
    }
   ],
   "source": [
    "def scopeTest():\n",
    "    word = \"function\"\n",
    "    return word\n",
    "value = scopeTest()\n",
    "print(value)"
   ]
  },
  {
   "cell_type": "code",
   "execution_count": 37,
   "metadata": {},
   "outputs": [
    {
     "name": "stdout",
     "output_type": "stream",
     "text": [
      "Befor Altering: ['baseball', 'football', 'hockey', 'basketball']\n",
      "After Altering: ['soccer', 'football', 'hockey', 'basketball']\n"
     ]
    }
   ],
   "source": [
    "sports = [\"baseball\", \"football\", \"hockey\", \"basketball\"]\n",
    "def change(aList):\n",
    "    aList[0] = \"soccer\"\n",
    "print(\"Befor Altering: {}\".format(sports))\n",
    "change(sports)\n",
    "print(\"After Altering: {}\".format(sports))"
   ]
  },
  {
   "cell_type": "code",
   "execution_count": 40,
   "metadata": {},
   "outputs": [
    {
     "name": "stdout",
     "output_type": "stream",
     "text": [
      "['Bob', 'Bill', 'Amanfa']\n"
     ]
    }
   ],
   "source": [
    "names = [\"Bob\", \"Rich\", \"Amanfa\"]\n",
    "def changeValue(aList, name, index):\n",
    "    aList[index] = name\n",
    "changeValue(names, \"Bill\", 1)\n",
    "print(names)"
   ]
  },
  {
   "cell_type": "markdown",
   "metadata": {},
   "source": [
    "# Friday Project: Creating a Shopping Cart"
   ]
  },
  {
   "cell_type": "code",
   "execution_count": null,
   "metadata": {},
   "outputs": [],
   "source": [
    "\n",
    "from IPython.display import clear_output\n",
    "\n",
    "\n",
    "cart = []\n",
    "\n",
    "\n",
    "def addItem(item):\n",
    "    clear_output()\n",
    "    cart.append(item)\n",
    "    print(\"{} has been added.\".format(item))\n",
    "    \n",
    "    \n",
    "def removeItem(num):\n",
    "    clear_output()\n",
    "    try:\n",
    "        indexItem = int(num) - 1\n",
    "        item = cart[indexItem]\n",
    "        cart.pop(indexItem)\n",
    "        print(\"{}) {} has been removed.\".format(num, item))\n",
    "    except:\n",
    "        print(\"Sorry we could not remove that item.\")\n",
    "        \n",
    "        \n",
    "def showCart():\n",
    "    clear_output()\n",
    "    if cart:\n",
    "        print(\"Here is your cart:\")\n",
    "        i = 1\n",
    "        for item in cart:\n",
    "            print(\"{}) {}\".format(i, item))\n",
    "            i += 1\n",
    "    else:\n",
    "        print(\"Your cart is empty.\")\n",
    "\n",
    "\n",
    "def clearCart():\n",
    "    clear_output()\n",
    "    cart.clear()\n",
    "    print(\"Your cart is empty.\")\n",
    "    \n",
    "    \n",
    "def main():\n",
    "    done = False\n",
    "    \n",
    "    while not done:\n",
    "        ans = input(\"quit/add/remove/show/clear: \".lower())\n",
    "        \n",
    "        \n",
    "        if ans == \"quit\":\n",
    "            print(\"Thanks for using our program.\")\n",
    "            showCart()\n",
    "            done = True\n",
    "        elif ans == \"add\":\n",
    "            item = input(\"What would you like to add? \").title()\n",
    "            addItem(item)\n",
    "        elif ans == \"remove\":\n",
    "            showCart()\n",
    "            num = input(\"What would you like to remove? Type the item number \").title()\n",
    "            removeItem(num)\n",
    "        elif ans == \"show\":\n",
    "            showCart()\n",
    "        elif ans == \"clear\":\n",
    "            clearCart()\n",
    "        else:\n",
    "            print(\"Sorry that was not an option.\")\n",
    "\n",
    "main()        "
   ]
  },
  {
   "cell_type": "code",
   "execution_count": null,
   "metadata": {},
   "outputs": [],
   "source": []
  }
 ],
 "metadata": {
  "kernelspec": {
   "display_name": "Python 3",
   "language": "python",
   "name": "python3"
  },
  "language_info": {
   "codemirror_mode": {
    "name": "ipython",
    "version": 3
   },
   "file_extension": ".py",
   "mimetype": "text/x-python",
   "name": "python",
   "nbconvert_exporter": "python",
   "pygments_lexer": "ipython3",
   "version": "3.7.6"
  }
 },
 "nbformat": 4,
 "nbformat_minor": 4
}
